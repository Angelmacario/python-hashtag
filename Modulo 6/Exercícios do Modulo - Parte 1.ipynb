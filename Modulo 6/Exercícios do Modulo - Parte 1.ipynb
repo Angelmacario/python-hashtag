{
 "cells": [
  {
   "cell_type": "markdown",
   "metadata": {},
   "source": [
    "# Exercícios com if"
   ]
  },
  {
   "cell_type": "markdown",
   "metadata": {},
   "source": [
    "## 1. Cálculo de Bônus\n",
    "\n",
    "- Crie um programa que calcule e dê um print no bônus que os funcionários devem receber segundo a regra:\n",
    "\n",
    "A meta é 1000 vendas.<br> \n",
    "Se o valor de vendas for maior ou igual a meta, o valor do bônus do funcionário é 10% do valor de vendas.<br>\n",
    "Caso contrário o valor de bônus do funcionário é 0.<br>\n",
    "Print o bônus dos 3 funcionários"
   ]
  },
  {
   "cell_type": "code",
   "execution_count": 3,
   "metadata": {},
   "outputs": [
    {
     "name": "stdout",
     "output_type": "stream",
     "text": [
      "O funcionário 1 ganhou R$ 100.0 de bônus\n",
      "O funcionário 2 não ganhou bônus\n",
      "O funcionário 3 ganhou R$ 270.0 de bônus\n"
     ]
    }
   ],
   "source": [
    "vendas_funcionario1 = 1000\n",
    "vendas_funcionario2 = 770\n",
    "vendas_funcionario3 = 2700\n",
    "\n",
    "#crie seu código aqui\n",
    "meta_venda = 1000\n",
    "\n",
    "if vendas_funcionario1 >= meta_venda:\n",
    "    bonus = 0.10 * vendas_funcionario1\n",
    "    print(f'O funcionário 1 ganhou R$ {bonus} de bônus')\n",
    "else:\n",
    "    print(f'O funcionário 1 não ganhou bônus')\n",
    "\n",
    "if vendas_funcionario2 >= meta_venda:\n",
    "    bonus = 0.10 * vendas_funcionario2\n",
    "    print(f'O funcionário 2 ganhou R$ {bonus} de bônus')\n",
    "else:\n",
    "    print(f'O funcionário 2 não ganhou bônus')\n",
    "\n",
    "if vendas_funcionario3 >= meta_venda:\n",
    "    bonus = 0.10 * vendas_funcionario3\n",
    "    print(f'O funcionário 3 ganhou R$ {bonus} de bônus')\n",
    "else:\n",
    "    print(f'O funcionário 3 não ganhou bônus')"
   ]
  },
  {
   "cell_type": "raw",
   "metadata": {},
   "source": [
    "Resposta:\n",
    "O funcionário 1 ganhou 100 de bônus\n",
    "O funcionário 2 ganhou 0 de bônus\n",
    "O funcionário 3 ganhou 270 de bônus"
   ]
  },
  {
   "cell_type": "markdown",
   "metadata": {},
   "source": [
    "## 2. Cálculo de bônus com uma nova regra\n",
    "\n",
    "- Agora, crie um novo código que calcule e dê um print no bônus dos funcionários novamente. Porém há uma nova regra nesse 2º caso:\n",
    "\n",
    "A meta é 1000 vendas<br>\n",
    "Agora, os funcionários que venderem muito acima da meta ganham mais bônus do que os outros. Então o bônus é definido da seguinte forma:<br>\n",
    "\n",
    "- Se vendas funcionário for maior ou igual a 2000, então o bônus é de 15% sobre o valor de vendas\n",
    "- Se vendas funcionário for menor do que 2000 e maior ou igual a 1000, então o bônus é de 10% sobre o valor de vendas\n",
    "- Se vendas funcionário for menos do que 1000 então o bônus do funcionário é de 0.\n",
    "\n",
    "Use as mesmas variáveis de vendas_funcionários"
   ]
  },
  {
   "cell_type": "code",
   "execution_count": 9,
   "metadata": {},
   "outputs": [
    {
     "name": "stdout",
     "output_type": "stream",
     "text": [
      "O funcionário 1 recebe R$ 100.0 de bônus\n",
      "O funcionário 2 recebe R$ 0 de bônus\n",
      "O funcionário 3 recebe R$ 405.0 de bônus\n"
     ]
    }
   ],
   "source": [
    "# variaveis\n",
    "vendas_funcionario1 = 1000\n",
    "vendas_funcionario2 = 770\n",
    "vendas_funcionario3 = 2700\n",
    "\n",
    "meta_venda = 1000\n",
    "meta_dobro = 2000\n",
    "\n",
    "# Funcionario 1:\n",
    "if vendas_funcionario1 >= meta_dobro:\n",
    "    bonus = 0.15 * vendas_funcionario1\n",
    "    print(f'O funcionário 1 recebe R$ {bonus} de bônus')\n",
    "\n",
    "elif vendas_funcionario1 >= meta_venda and vendas_funcionario1 < meta_dobro:\n",
    "    bonus = 0.10 * vendas_funcionario1\n",
    "    print(f'O funcionário 1 recebe R$ {bonus} de bônus') \n",
    "\n",
    "else:\n",
    "    vendas_funcionario1 < meta_venda\n",
    "    bonus = 0 * vendas_funcionario1\n",
    "    print(f'O funcionário 1 recebe R$ {bonus} de bônus')\n",
    "\n",
    "#Funcionário 2:\n",
    "if vendas_funcionario2 >= meta_dobro:\n",
    "    bonus = 0.15 * vendas_funcionario2\n",
    "    print(f'O funcionário 2 recebe R$ {bonus} de bônus')\n",
    "\n",
    "elif vendas_funcionario2 >= meta_venda and vendas_funcionario1 < meta_dobro:\n",
    "    bonus = 0.10 * vendas_funcionario2\n",
    "    print(f'O funcionário 2 recebe R$ {bonus} de bônus') \n",
    "\n",
    "else:\n",
    "    vendas_funcionario2 < meta_venda\n",
    "    bonus = 0 * vendas_funcionario2\n",
    "    print(f'O funcionário 2 recebe R$ {bonus} de bônus') \n",
    "\n",
    "#Funcionário 3:\n",
    "if vendas_funcionario3 >= meta_dobro:\n",
    "    bonus = 0.15 * vendas_funcionario3\n",
    "    print(f'O funcionário 3 recebe R$ {bonus} de bônus')\n",
    "\n",
    "elif vendas_funcionario3 >= meta_venda and vendas_funcionario1 < meta_dobro:\n",
    "    bonus = 0.10 * vendas_funcionario3\n",
    "    print(f'O funcionário 3 recebe R$ {bonus} de bônus') \n",
    "\n",
    "else:\n",
    "    vendas_funcionario3 < meta_venda\n",
    "    bonus = 0 * vendas_funcionario3\n",
    "    print(f'O funcionário 3 recebe R$ {bonus} de bônus') "
   ]
  },
  {
   "cell_type": "raw",
   "metadata": {},
   "source": [
    "Resposta:\n",
    "O funcionário 1 ganhou 100 de bônus\n",
    "O funcionário 2 ganhou 0 de bônus\n",
    "O funcionário 3 ganhou 405 de bônus"
   ]
  }
 ],
 "metadata": {
  "kernelspec": {
   "display_name": "base",
   "language": "python",
   "name": "python3"
  },
  "language_info": {
   "codemirror_mode": {
    "name": "ipython",
    "version": 3
   },
   "file_extension": ".py",
   "mimetype": "text/x-python",
   "name": "python",
   "nbconvert_exporter": "python",
   "pygments_lexer": "ipython3",
   "version": "3.12.4"
  }
 },
 "nbformat": 4,
 "nbformat_minor": 4
}
