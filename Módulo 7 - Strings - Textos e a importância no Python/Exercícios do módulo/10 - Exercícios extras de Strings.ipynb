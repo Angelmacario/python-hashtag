{
 "cells": [
  {
   "cell_type": "markdown",
   "id": "2b04bbea",
   "metadata": {},
   "source": [
    "# Strings\n",
    "\n",
    "<span style=\"color: red;\"><b>Todos os exercícios são feitos partindo-se do pressuposto de que todas as entradas são dadas de forma correta. Casos limite não mencionados no enunciado não são abordados porque não fazem parte do exercício.</b></span>"
   ]
  },
  {
   "cell_type": "markdown",
   "id": "5b1f33b9",
   "metadata": {},
   "source": [
    "#### 1. Tamanho de strings. Faça um programa que leia 2 strings e informe o conteúdo delas seguido do seu comprimento. Informe também se as duas strings possuem o mesmo comprimento e são iguais ou diferentes no conteúdo.\n",
    "<pre>\n",
    "Compara duas strings\n",
    "String 1: Brasil Hexa 2006\n",
    "String 2: Brasil! Hexa 2006!\n",
    "Tamanho de \"Brasil Hexa 2006\": 16 caracteres\n",
    "Tamanho de \"Brasil! Hexa 2006!\": 18 caracteres\n",
    "As duas strings são de tamanhos diferentes.\n",
    "As duas strings possuem conteúdo diferente.\n",
    "</pre>"
   ]
  },
  {
   "cell_type": "code",
   "execution_count": 15,
   "id": "c492b657",
   "metadata": {},
   "outputs": [
    {
     "name": "stdout",
     "output_type": "stream",
     "text": [
      "A primeira frase tem: 5 caracteres\n",
      "A segunda frase tem: 5 caracteres\n",
      "As duas strings são de tamanhos iguais.\n"
     ]
    }
   ],
   "source": [
    "string1 = len(input('Digite uma string: '))\n",
    "string2 = len(input('Digite outra string: '))\n",
    "\n",
    "print(f'A primeira frase tem: {string1} caracteres')\n",
    "print(f'A segunda frase tem: {string2} caracteres')\n",
    "\n",
    "if string1 == string2:\n",
    "    print('As duas strings são de tamanhos iguais.')\n",
    "else:\n",
    "    print('As strings são de tamanhos diferentes.')"
   ]
  },
  {
   "cell_type": "markdown",
   "id": "c3068a53",
   "metadata": {},
   "source": [
    "#### 2. Valida e corrige número de telefone. Faça um programa que leia um número de telefone, e corrija o número no caso deste conter somente 7 dígitos, acrescentando o '3' na frente. O usuário pode informar o número com ou sem o traço separador.\n",
    "<pre>\n",
    "Valida e corrige número de telefone\n",
    "Telefone: 461-0133\n",
    "Telefone possui 7 dígitos. Vou acrescentar o digito três na frente.\n",
    "Telefone corrigido sem formatação: 34610133\n",
    "Telefone corrigido com formatação: 3461-0133\n",
    "</pre>"
   ]
  },
  {
   "cell_type": "code",
   "execution_count": null,
   "id": "0308566d",
   "metadata": {},
   "outputs": [
    {
     "name": "stdout",
     "output_type": "stream",
     "text": [
      "34560987\n"
     ]
    }
   ],
   "source": [
    "telefone = len(input('Digite o número de telefone: '))\n",
    "print(telefone)\n",
    "\n",
    "# telefone_c_formatacao == telefone[0:4] + '-' + telefone[4:8]\n",
    "\n",
    "if telefone == 7:\n",
    "    print(telefone)\n",
    "    telefone == '3' + telefone\n",
    "    telefone_c_formatacao = telefone[0:4] + '-' + telefone[4:8]\n",
    "    print(f'Telefone possui 7 dígitos. Vou acrescentar o dígito 3 na frente: {telefone}')\n",
    "    print(f'Telefone corrigido sem formatação: {telefone}')\n",
    "    print(f'Telefone corrigido com formatação: {telefone_c_formatacao}')\n",
    "\n",
    "elif telefone == 8 and telefone[0] == 3:\n",
    "    print(telefone)\n",
    "    telefone_c_formatacao = telefone[0:4] + '-' + telefone[4:8]\n",
    "    print(f'Telefone corrigido sem formatação: {telefone}')\n",
    "    print(f'Telefone corrigido com formatação: {telefone_c_formatacao}')\n",
    "\n",
    "elif '-' in telefone and telefone == 9:\n",
    "    telefone = telefone.replace('-','')\n",
    "    print(f'Telefone corrigido sem formatação: {telefone}')\n",
    "    print(f'Telefone corrigido com formatação: {telefone}')"
   ]
  },
  {
   "cell_type": "code",
   "execution_count": 28,
   "id": "6b5b04f9",
   "metadata": {},
   "outputs": [
    {
     "name": "stdout",
     "output_type": "stream",
     "text": [
      "Telefone corrigido sem formatação: 654246234\n",
      "Telefone corrigido com formatação: 65424-6234\n"
     ]
    }
   ],
   "source": [
    "telefone = input('Digite o número de telefone: ').strip()\n",
    "\n",
    "# Remove traços, caso existam\n",
    "telefone = telefone.replace('-', '')\n",
    "\n",
    "if len(telefone) == 7:\n",
    "    telefone = '3' + telefone\n",
    "    telefone_formatado = telefone[:4] + '-' + telefone[4:]\n",
    "    print(f'Telefone possui 7 dígitos. Vou acrescentar o dígito 3 na frente: {telefone}')\n",
    "    print(f'Telefone corrigido sem formatação: {telefone}')\n",
    "    print(f'Telefone corrigido com formatação: {telefone_formatado}')\n",
    "\n",
    "elif len(telefone) == 8 and telefone[0] == '3':\n",
    "    telefone_formatado = telefone[:4] + '-' + telefone[4:]\n",
    "    print(f'Telefone corrigido sem formatação: {telefone}')\n",
    "    print(f'Telefone corrigido com formatação: {telefone_formatado}')\n",
    "\n",
    "elif len(telefone) == 9:\n",
    "    print(f'Telefone corrigido sem formatação: {telefone}')\n",
    "    telefone_formatado = telefone[:5] + '-' + telefone[5:]\n",
    "    print(f'Telefone corrigido com formatação: {telefone_formatado}')\n",
    "else:\n",
    "    print('Número inválido!')"
   ]
  },
  {
   "cell_type": "code",
   "execution_count": 43,
   "id": "feba26e1",
   "metadata": {},
   "outputs": [
    {
     "name": "stdout",
     "output_type": "stream",
     "text": [
      "Número inválido! O telefone deve ter 7, 8 ou 9 dígitos e começar com 3.\n"
     ]
    }
   ],
   "source": [
    "# Solicita ao usuário que digite um número de telefone e remove espaços extras no início e no fim\n",
    "telefone = input('Digite o número de telefone: ').strip()\n",
    "\n",
    "# Remove qualquer traço '-' que possa ter sido digitado\n",
    "telefone = telefone.replace('-', '')\n",
    "\n",
    "# Verifica se o telefone contém apenas números\n",
    "if not telefone.isdigit():\n",
    "    print('Número inválido! O telefone deve conter apenas números.')\n",
    "else:\n",
    "    # Se o número tem 7 dígitos, adicionamos '3' no início\n",
    "    if len(telefone) == 7:\n",
    "        telefone = '3' + telefone  # Agora o telefone sempre começa com '3'\n",
    "        telefone_formatado = telefone[:4] + '-' + telefone[4:]\n",
    "\n",
    "        print(f'Telefone possuía 7 dígitos. Foi acrescentado o dígito 3 na frente: {telefone}')\n",
    "        print(f'Telefone corrigido sem formatação: {telefone}')\n",
    "        print(f'Telefone corrigido com formatação: {telefone_formatado}')\n",
    "\n",
    "    # Verifica se o telefone já tem 8 dígitos e começa com '3'\n",
    "    elif len(telefone) == 8 and telefone.startswith('3'):\n",
    "        telefone_formatado = telefone[:4] + '-' + telefone[4:]\n",
    "\n",
    "        print(f'Telefone válido sem formatação: {telefone}')\n",
    "        print(f'Telefone válido com formatação: {telefone_formatado}')\n",
    "\n",
    "    # Verifica se o telefone tem 9 dígitos e começa com '3'\n",
    "    elif len(telefone) == 9 and telefone.startswith('3'):\n",
    "        telefone_formatado = telefone[:5] + '-' + telefone[5:]\n",
    "\n",
    "        print(f'Telefone válido sem formatação: {telefone}')\n",
    "        print(f'Telefone válido com formatação: {telefone_formatado}')\n",
    "\n",
    "    # Se não atender nenhum dos critérios acima, é inválido\n",
    "    else:\n",
    "        print('Número inválido! O telefone deve ter 7, 8 ou 9 dígitos e começar com 3.')\n"
   ]
  }
 ],
 "metadata": {
  "kernelspec": {
   "display_name": "base",
   "language": "python",
   "name": "python3"
  },
  "language_info": {
   "codemirror_mode": {
    "name": "ipython",
    "version": 3
   },
   "file_extension": ".py",
   "mimetype": "text/x-python",
   "name": "python",
   "nbconvert_exporter": "python",
   "pygments_lexer": "ipython3",
   "version": "3.12.4"
  }
 },
 "nbformat": 4,
 "nbformat_minor": 5
}
