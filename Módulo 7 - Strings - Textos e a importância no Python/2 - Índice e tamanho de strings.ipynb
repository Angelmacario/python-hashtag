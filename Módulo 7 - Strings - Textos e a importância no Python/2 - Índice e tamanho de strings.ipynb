{
 "cells": [
  {
   "cell_type": "markdown",
   "metadata": {
    "vscode": {
     "languageId": "plaintext"
    }
   },
   "source": [
    "0 1 2 3 4 5 6 7 8 9 10 11 12 13 14\n",
    "\n",
    "m a r i a @ g m a i l . c o m \n",
    "\n",
    "pegar um item de uma string: texto[índice]\n",
    "\n",
    "pegar o tamanho de uma string: len(texto)"
   ]
  },
  {
   "cell_type": "code",
   "execution_count": 6,
   "metadata": {},
   "outputs": [
    {
     "name": "stdout",
     "output_type": "stream",
     "text": [
      "15\n",
      "14\n",
      "m\n",
      "é\n"
     ]
    }
   ],
   "source": [
    "email = 'maria@gmail.com'\n",
    "nome = 'Maria Angélica'\n",
    "\n",
    "print(len(email))\n",
    "print(len(nome))\n",
    "print(email[0])\n",
    "print(nome[9])\n"
   ]
  },
  {
   "cell_type": "code",
   "execution_count": 7,
   "metadata": {},
   "outputs": [
    {
     "name": "stdout",
     "output_type": "stream",
     "text": [
      " ------EXEMPLOS------\n",
      "6\n",
      "P\n",
      "n\n",
      "Pyt\n",
      "hon\n",
      "nohtyP\n"
     ]
    }
   ],
   "source": [
    "print(' ------EXEMPLOS------')\n",
    "\n",
    "texto = \"Python\"\n",
    "print(len(texto))   # 6 (conta o número de caracteres)\n",
    "print(texto[0])     # 'P' (primeira letra)\n",
    "print(texto[-1])    # 'n' (última letra)\n",
    "print(texto[:3])    # 'Pyt' (do início ao índice 2)\n",
    "print(texto[3:])    # 'hon' (do índice 3 até o final)\n",
    "print(texto[::-1])  # 'nohtyP' (inverte a string)"
   ]
  }
 ],
 "metadata": {
  "kernelspec": {
   "display_name": "base",
   "language": "python",
   "name": "python3"
  },
  "language_info": {
   "codemirror_mode": {
    "name": "ipython",
    "version": 3
   },
   "file_extension": ".py",
   "mimetype": "text/x-python",
   "name": "python",
   "nbconvert_exporter": "python",
   "pygments_lexer": "ipython3",
   "version": "3.12.4"
  }
 },
 "nbformat": 4,
 "nbformat_minor": 2
}
