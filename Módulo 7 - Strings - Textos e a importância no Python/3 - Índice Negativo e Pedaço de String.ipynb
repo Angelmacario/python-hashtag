{
 "cells": [
  {
   "cell_type": "markdown",
   "metadata": {},
   "source": [
    "-15 - 14 -13 -12 -11 -10 -9 -8 -7 -6 -5 -4 -3 -2 -1\n",
    "\n",
    "  m   a   r   i   a  @  g  m  a  i  l  .  c  o  m \n",
    "\n",
    "Para pegar um texto de trás para frente: texto[índice] -> onde índice é negativo\n",
    "\n",
    "Para pegar o pedaço de um texto use : (dois pontos) texto[índice] ou texto[índice:] ou ainda texto[indice:indice]"
   ]
  },
  {
   "cell_type": "code",
   "execution_count": 4,
   "metadata": {},
   "outputs": [
    {
     "name": "stdout",
     "output_type": "stream",
     "text": [
      "@gm\n"
     ]
    }
   ],
   "source": [
    "email = 'maria@gmail.com'\n",
    "nome = 'Maria Angélica'\n",
    "\n",
    "print(email[5:8])\n",
    "# print(nome[9])"
   ]
  },
  {
   "cell_type": "code",
   "execution_count": null,
   "metadata": {},
   "outputs": [
    {
     "name": "stdout",
     "output_type": "stream",
     "text": [
      "Tamanho do email 15 caracteres\n",
      "Primeiro caractere m\n",
      "Último caractere m\n",
      "Servidor do email: gmail\n"
     ]
    },
    {
     "ename": "",
     "evalue": "",
     "output_type": "error",
     "traceback": [
      "\u001b[1;31mThe Kernel crashed while executing code in the current cell or a previous cell. \n",
      "\u001b[1;31mPlease review the code in the cell(s) to identify a possible cause of the failure. \n",
      "\u001b[1;31mClick <a href='https://aka.ms/vscodeJupyterKernelCrash'>here</a> for more info. \n",
      "\u001b[1;31mView Jupyter <a href='command:jupyter.viewOutput'>log</a> for further details."
     ]
    }
   ],
   "source": [
    "print('Tamanho do email ' + str(len(email)) + ' caracteres')\n",
    "print('Primeiro caractere ' + email[0])\n",
    "print('Último caractere ' + email[-1])\n",
    "print('Servidor do email: ' + email[6:11])"
   ]
  }
 ],
 "metadata": {
  "kernelspec": {
   "display_name": "base",
   "language": "python",
   "name": "python3"
  },
  "language_info": {
   "codemirror_mode": {
    "name": "ipython",
    "version": 3
   },
   "file_extension": ".py",
   "mimetype": "text/x-python",
   "name": "python",
   "nbconvert_exporter": "python",
   "pygments_lexer": "ipython3",
   "version": "3.12.4"
  }
 },
 "nbformat": 4,
 "nbformat_minor": 2
}
