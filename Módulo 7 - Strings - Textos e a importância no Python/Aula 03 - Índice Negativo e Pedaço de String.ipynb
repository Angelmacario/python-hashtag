{
 "cells": [
  {
   "cell_type": "markdown",
   "metadata": {},
   "source": [
    "-15 - 14 -13 -12 -11 -10 -9 -8 -7 -6 -5 -4 -3 -2 -1\n",
    "\n",
    "  m   a   r   i   a  @  g  m  a  i  l  .  c  o  m \n",
    "\n",
    "Para pegar um texto de trás para frente: texto[índice] -> onde índice é negativo\n",
    "\n",
    "Para pegar o pedaço de um texto use : (dois pontos) texto[índice] ou texto[índice:] ou ainda texto[indice:indice]"
   ]
  },
  {
   "cell_type": "code",
   "execution_count": 4,
   "metadata": {},
   "outputs": [
    {
     "name": "stdout",
     "output_type": "stream",
     "text": [
      "@gm\n"
     ]
    }
   ],
   "source": [
    "email = 'maria@gmail.com'\n",
    "nome = 'Maria Angélica'\n",
    "\n",
    "print(email[5:8])\n",
    "# print(nome[9])"
   ]
  },
  {
   "cell_type": "code",
   "execution_count": 6,
   "metadata": {},
   "outputs": [
    {
     "name": "stdout",
     "output_type": "stream",
     "text": [
      "Tamanho do email 15 caracteres\n",
      "Primeiro caractere m\n",
      "Último caractere m\n",
      "Servidor do email: gmail\n"
     ]
    }
   ],
   "source": [
    "print('Tamanho do email ' + str(len(email)) + ' caracteres')\n",
    "print('Primeiro caractere ' + email[0])\n",
    "print('Último caractere ' + email[-1])\n",
    "print('Servidor do email: ' + email[6:11])"
   ]
  }
 ],
 "metadata": {
  "kernelspec": {
   "display_name": "base",
   "language": "python",
   "name": "python3"
  },
  "language_info": {
   "codemirror_mode": {
    "name": "ipython",
    "version": 3
   },
   "file_extension": ".py",
   "mimetype": "text/x-python",
   "name": "python",
   "nbconvert_exporter": "python",
   "pygments_lexer": "ipython3",
   "version": "3.12.4"
  }
 },
 "nbformat": 4,
 "nbformat_minor": 2
}
