{
 "cells": [
  {
   "cell_type": "code",
   "execution_count": 5,
   "id": "4be9abcd-3d73-4d05-9abb-d940403c9334",
   "metadata": {},
   "outputs": [
    {
     "name": "stdout",
     "output_type": "stream",
     "text": [
      "Meu primeiro programa, vamos aprender Python\n"
     ]
    }
   ],
   "source": [
    "print('Meu primeiro programa, vamos aprender Python')"
   ]
  },
  {
   "cell_type": "code",
   "execution_count": 6,
   "id": "8993774c-5175-4def-b451-438a98ba5d0c",
   "metadata": {},
   "outputs": [
    {
     "name": "stdout",
     "output_type": "stream",
     "text": [
      "1+1\n"
     ]
    }
   ],
   "source": [
    "print('1+1') "
   ]
  },
  {
   "cell_type": "code",
   "execution_count": 7,
   "id": "9c711aa8",
   "metadata": {},
   "outputs": [
    {
     "name": "stdout",
     "output_type": "stream",
     "text": [
      "2\n"
     ]
    }
   ],
   "source": [
    "print(1+1)"
   ]
  },
  {
   "cell_type": "code",
   "execution_count": 12,
   "id": "e65d6d20",
   "metadata": {},
   "outputs": [
    {
     "name": "stdout",
     "output_type": "stream",
     "text": [
      "11.0\n"
     ]
    }
   ],
   "source": [
    "print(2.2 * 5)"
   ]
  },
  {
   "cell_type": "code",
   "execution_count": 13,
   "id": "f4b31e7b",
   "metadata": {},
   "outputs": [
    {
     "name": "stdout",
     "output_type": "stream",
     "text": [
      "1\n"
     ]
    }
   ],
   "source": [
    "print(7 % 3) #mode = resto da divisão"
   ]
  },
  {
   "cell_type": "code",
   "execution_count": 8,
   "id": "f3c5540f-e66f-40fe-b7d8-bd10bcb81103",
   "metadata": {},
   "outputs": [
    {
     "name": "stdout",
     "output_type": "stream",
     "text": [
      "Meu nome é Maria\n"
     ]
    }
   ],
   "source": [
    "print('Meu nome é' + ' Maria')"
   ]
  },
  {
   "cell_type": "code",
   "execution_count": 9,
   "id": "8afd2f44-5bd6-4e0e-9ea0-ab26c350773e",
   "metadata": {},
   "outputs": [
    {
     "name": "stdout",
     "output_type": "stream",
     "text": [
      "False\n"
     ]
    }
   ],
   "source": [
    "# o in compara se o que tem de um lado tem do outro tbm\n",
    "print('Meu nome é' in ' Maria')"
   ]
  },
  {
   "cell_type": "code",
   "execution_count": 10,
   "id": "a2877f5b-55eb-4666-923f-a4e3525946f8",
   "metadata": {},
   "outputs": [
    {
     "name": "stdout",
     "output_type": "stream",
     "text": [
      "True\n"
     ]
    }
   ],
   "source": [
    "#aqui buscou só  a letra M\n",
    "print('M' in ' Maria')"
   ]
  },
  {
   "cell_type": "code",
   "execution_count": 11,
   "id": "32d3809a-8e8b-4a12-9dfd-6a7cf6521215",
   "metadata": {},
   "outputs": [
    {
     "name": "stdout",
     "output_type": "stream",
     "text": [
      "False\n"
     ]
    }
   ],
   "source": [
    "#aqui buscou só  a letra m, então ele retorna false\n",
    "print('m' in ' Maria')"
   ]
  },
  {
   "cell_type": "code",
   "execution_count": null,
   "id": "754d4fd7-6e3b-4e00-b7d0-56d9e8c43945",
   "metadata": {},
   "outputs": [],
   "source": []
  }
 ],
 "metadata": {
  "kernelspec": {
   "display_name": "base",
   "language": "python",
   "name": "python3"
  },
  "language_info": {
   "codemirror_mode": {
    "name": "ipython",
    "version": 3
   },
   "file_extension": ".py",
   "mimetype": "text/x-python",
   "name": "python",
   "nbconvert_exporter": "python",
   "pygments_lexer": "ipython3",
   "version": "3.12.4"
  }
 },
 "nbformat": 4,
 "nbformat_minor": 5
}
