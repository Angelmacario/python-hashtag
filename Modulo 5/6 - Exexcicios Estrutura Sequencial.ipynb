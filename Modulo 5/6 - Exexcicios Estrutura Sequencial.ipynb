{
 "cells": [
  {
   "cell_type": "markdown",
   "id": "bb0f9514",
   "metadata": {
    "id": "bb0f9514"
   },
   "source": [
    "# Lista de Estrutura Sequencial"
   ]
  },
  {
   "cell_type": "markdown",
   "id": "4e7a8c30",
   "metadata": {
    "id": "4e7a8c30"
   },
   "source": [
    "#### 1. Faça um Programa que mostre a mensagem (print) \"Alo mundo\" na tela."
   ]
  },
  {
   "cell_type": "code",
   "execution_count": 11,
   "id": "883bfe85",
   "metadata": {
    "id": "883bfe85"
   },
   "outputs": [
    {
     "name": "stdout",
     "output_type": "stream",
     "text": [
      "Olá Mundo!\n"
     ]
    }
   ],
   "source": [
    "print(\"Olá Mundo!\")"
   ]
  },
  {
   "cell_type": "markdown",
   "id": "71d6d6a2",
   "metadata": {
    "id": "71d6d6a2"
   },
   "source": [
    "#### 2. Faça um Programa que peça um número (input) e então mostre a mensagem: \"O número informado foi [número].\""
   ]
  },
  {
   "cell_type": "code",
   "execution_count": 12,
   "id": "30cfffcf",
   "metadata": {
    "id": "30cfffcf"
   },
   "outputs": [
    {
     "name": "stdout",
     "output_type": "stream",
     "text": [
      "O número informado foi: 5 \n"
     ]
    }
   ],
   "source": [
    "num = int(input(\"Digite um número: \"))\n",
    "\n",
    "print(f\"O número informado foi: {num} \")"
   ]
  },
  {
   "cell_type": "markdown",
   "id": "c5e43160",
   "metadata": {
    "id": "c5e43160"
   },
   "source": [
    "#### 3. Faça um Programa que peça dois números e imprima a soma."
   ]
  },
  {
   "cell_type": "code",
   "execution_count": 13,
   "id": "b0e79590",
   "metadata": {
    "id": "b0e79590"
   },
   "outputs": [
    {
     "name": "stdout",
     "output_type": "stream",
     "text": [
      "A soma é: 123\n"
     ]
    }
   ],
   "source": [
    "num1 = int(input(\"Digite um número: \"))\n",
    "num2 = int(input(\"Digite mais um número: \"))\n",
    "\n",
    "soma = num1 + num2\n",
    "\n",
    "print(f\"A soma é: {soma}\")"
   ]
  },
  {
   "cell_type": "markdown",
   "id": "17826987",
   "metadata": {
    "id": "17826987"
   },
   "source": [
    "#### 4. Faça um Programa que peça as 4 notas bimestrais de um aluno e mostre a média de todas as notas."
   ]
  },
  {
   "cell_type": "code",
   "execution_count": 14,
   "id": "23b66762",
   "metadata": {
    "id": "23b66762"
   },
   "outputs": [
    {
     "name": "stdout",
     "output_type": "stream",
     "text": [
      "A média do(a) aluno(a) é: 6.25\n"
     ]
    }
   ],
   "source": [
    "nota1 = float(input(\"Digite a 1ª nota:\"))\n",
    "nota2 = float(input(\"Digite a 2ª nota:\"))\n",
    "nota3 = float(input(\"Digite a 3ª nota:\"))\n",
    "nota4 = float(input(\"Digite a 4ª nota:\"))\n",
    "\n",
    "media =  ( nota1 + nota2 + nota3 + nota4 ) / 4\n",
    "\n",
    "print(f\"A média do(a) aluno(a) é: {media}\")"
   ]
  },
  {
   "cell_type": "markdown",
   "id": "62d461c5",
   "metadata": {
    "id": "62d461c5"
   },
   "source": [
    "#### 5. Faça um Programa que converta metros para centímetros. Você pode pedir o comprimento em metros para o usuário (input)."
   ]
  },
  {
   "cell_type": "code",
   "execution_count": 15,
   "id": "d642f1ba",
   "metadata": {
    "id": "d642f1ba"
   },
   "outputs": [
    {
     "name": "stdout",
     "output_type": "stream",
     "text": [
      "O total de centímentros é de: 9000.0\n"
     ]
    }
   ],
   "source": [
    "metro = float(input(\"Digite o comprimento de metros: \"))\n",
    "\n",
    "centimetro = metro * 100\n",
    "\n",
    "print(f\"O total de centímentros é de: {centimetro}\")"
   ]
  },
  {
   "cell_type": "markdown",
   "id": "f1311697",
   "metadata": {
    "id": "f1311697"
   },
   "source": [
    "#### 6. Faça um Programa que calcule a área de uma sala de um apartamento. Para isso, o seu programa precisa pedir a largura da sala, o comprimento da sala e imprimir a área em m² da sala."
   ]
  },
  {
   "cell_type": "code",
   "execution_count": 16,
   "id": "612ea24b",
   "metadata": {
    "id": "612ea24b"
   },
   "outputs": [
    {
     "name": "stdout",
     "output_type": "stream",
     "text": [
      "A área é de 72.0 m²\n"
     ]
    }
   ],
   "source": [
    "largura = float(input(\"Digite a largura: \"))\n",
    "comprimento = float(input(\"Digite o Comprimento: \"))\n",
    "\n",
    "area = largura * comprimento\n",
    "\n",
    "print(f\"A área é de {area} m²\")"
   ]
  },
  {
   "cell_type": "markdown",
   "id": "2a285929",
   "metadata": {
    "id": "2a285929"
   },
   "source": [
    "#### 7. Faça um Programa que pergunte quanto você ganha por hora e o número de horas trabalhadas no mês. Calcule e mostre o total do seu salário no referido mês."
   ]
  },
  {
   "cell_type": "code",
   "execution_count": 17,
   "id": "359e2232",
   "metadata": {
    "id": "359e2232"
   },
   "outputs": [
    {
     "name": "stdout",
     "output_type": "stream",
     "text": [
      "Seu salário é de: 9000.0\n"
     ]
    }
   ],
   "source": [
    "valorHora = float(input(\"Qual o valor da sua hora trabalhada? \"))\n",
    "qntHorasMes = float(input(\"Quantas horas você trabalhou no mês? \"))\n",
    "\n",
    "salario = valorHora * qntHorasMes\n",
    "\n",
    "print(f\"Seu salário é de: {salario}\")"
   ]
  },
  {
   "cell_type": "markdown",
   "id": "7e2d4615",
   "metadata": {
    "id": "7e2d4615"
   },
   "source": [
    "#### 8. Vamos criar um conversor de temperatura. Faça um Programa que peça a temperatura em graus Fahrenheit, transforme e mostre a temperatura em graus Celsius.\n",
    "$C = \\frac{5}{9}(F-32)$"
   ]
  },
  {
   "cell_type": "code",
   "execution_count": 18,
   "id": "82daf9fd",
   "metadata": {
    "id": "82daf9fd"
   },
   "outputs": [
    {
     "name": "stdout",
     "output_type": "stream",
     "text": [
      "A temperatura é 7.22 Cº\n"
     ]
    }
   ],
   "source": [
    "fahrenheit = float(input(f\"Digite a temperatura fahrenheit: \"))\n",
    "\n",
    "celsius  = (fahrenheit - 32) * 5/9\n",
    "\n",
    "print(f\"A temperatura é {celsius:.2f} Cº\")"
   ]
  },
  {
   "cell_type": "markdown",
   "id": "20708b1c",
   "metadata": {
    "id": "20708b1c"
   },
   "source": [
    "#### 9. Faça um Programa que peça a temperatura em graus Celsius, transforme e mostre em graus Fahrenheit.\n",
    "$F = \\frac{9}{5}C + 32$"
   ]
  },
  {
   "cell_type": "code",
   "execution_count": 19,
   "id": "c73cfb38",
   "metadata": {
    "id": "c73cfb38"
   },
   "outputs": [
    {
     "name": "stdout",
     "output_type": "stream",
     "text": [
      "A temperatura é 74.22 Fº\n"
     ]
    }
   ],
   "source": [
    "celsius = float(input(f\"Digite a temperatura em celsius: \"))\n",
    "\n",
    "fahrenheit = (celsius * 5/9) + 32\n",
    "\n",
    "print(f\"A temperatura é {fahrenheit:.2f} Fº\")"
   ]
  },
  {
   "cell_type": "markdown",
   "id": "b263a9dc",
   "metadata": {
    "id": "b263a9dc"
   },
   "source": [
    "#### 10. Tendo como dados de entrada a altura (h) de uma pessoa, construa um algoritmo que calcule seu peso ideal, usando a seguinte fórmula:\n",
    "$P = 72,7h - 58$\n",
    "\n",
    "Lembrando que \"algoritmo\" nada mais é do que um programa, como todos os outros que você vem fazendo"
   ]
  },
  {
   "cell_type": "code",
   "execution_count": 20,
   "id": "9a9b8dca",
   "metadata": {
    "id": "9a9b8dca"
   },
   "outputs": [
    {
     "name": "stdout",
     "output_type": "stream",
     "text": [
      "Seu peso ideal é de  6485.00 kg.\n"
     ]
    }
   ],
   "source": [
    "h = float(input(\"Digite sua altura em metros (ex: 1.75): \"))\n",
    "\n",
    "peso_ideal = 72.7 * h - 58\n",
    "\n",
    "print(f\"Seu peso ideal é de {peso_ideal: .2f} kg.\")"
   ]
  },
  {
   "cell_type": "markdown",
   "id": "13bb40d7",
   "metadata": {
    "id": "13bb40d7"
   },
   "source": [
    "#### 11. Tendo como dado de entrada a altura (h) de uma pessoa, construa um algoritmo que calcule seu peso ideal, utilizando as seguintes fórmulas:\n",
    "##### a. Para homens: $P = 72,7h - 58$\n",
    "##### b. Para mulheres: $P = 62,1h - 44,7$"
   ]
  },
  {
   "cell_type": "code",
   "execution_count": 10,
   "id": "bf82dc8c",
   "metadata": {
    "id": "bf82dc8c"
   },
   "outputs": [
    {
     "name": "stdout",
     "output_type": "stream",
     "text": [
      "O peso ideal para uma mulher com altura 1.62m é de 55.90 kg\n"
     ]
    }
   ],
   "source": [
    "#Solicita a altura da pessoa:\n",
    "h = float(input(\"Digite sua altura em metros {(ex: 1.75): \"))\n",
    "\n",
    "#Verifica se a altura é maior que 0\n",
    "if h > 0:\n",
    "    #Solicita o sexo da pessoa\n",
    "    sexo = input(\"Digite o sexo (M para masculino, F para feminino): \").strip().upper()\n",
    "\n",
    "    if sexo == \"M\":\n",
    "        peso_ideal = 72.7 * h - 58\n",
    "        print(f\"O peso ideal para um homem com altura {h:.2f}m é de {peso_ideal:.2f} kg\")\n",
    "\n",
    "    elif sexo == \"F\":\n",
    "        peso_ideal = 62.1 * h - 44.7\n",
    "        print(f\"O peso ideal para uma mulher com altura {h:.2f}m é de {peso_ideal:.2f} kg\")\n",
    "\n",
    "    else: \n",
    "        print(\"Sexo inválido! Por favor, use 'M' para masculino ou 'F' para feminino\")\n",
    "\n",
    "else: \n",
    "    print(\"A altura é inválida! A altura deve ser maior que zero.\")"
   ]
  },
  {
   "cell_type": "markdown",
   "id": "f208ef89",
   "metadata": {
    "id": "f208ef89"
   },
   "source": [
    "#### 12. Faça um Programa que pergunte quanto você ganha por hora e o número de horas trabalhadas no mês."
   ]
  },
  {
   "cell_type": "code",
   "execution_count": 21,
   "id": "2d5b23e0",
   "metadata": {
    "id": "2d5b23e0"
   },
   "outputs": [],
   "source": [
    "valorHora = float(input(\"Qual o valor da sua hora trabalhada? \"))\n",
    "qntHorasMes = float(input(\"Quantas horas você trabalhou no mês? \"))"
   ]
  },
  {
   "cell_type": "markdown",
   "id": "607dee3c",
   "metadata": {
    "id": "607dee3c"
   },
   "source": [
    "#####  Calcule o salário bruto (horas * salario por hora)"
   ]
  },
  {
   "cell_type": "code",
   "execution_count": 23,
   "id": "7f80ccbb",
   "metadata": {
    "id": "7f80ccbb"
   },
   "outputs": [
    {
     "name": "stdout",
     "output_type": "stream",
     "text": [
      "801.0\n"
     ]
    }
   ],
   "source": [
    "salarioBruto = valorHora * qntHorasMes\n",
    "print(salarioBruto)"
   ]
  },
  {
   "cell_type": "markdown",
   "id": "2ed93cb0",
   "metadata": {
    "id": "2ed93cb0"
   },
   "source": [
    "##### Calcule o desconto do IR (11% do salário bruto)"
   ]
  },
  {
   "cell_type": "code",
   "execution_count": 24,
   "id": "3363e22f",
   "metadata": {
    "id": "3363e22f"
   },
   "outputs": [],
   "source": [
    "salarioDescontoIR = (salarioBruto * 11) / 100"
   ]
  },
  {
   "cell_type": "markdown",
   "id": "0994b2c0",
   "metadata": {
    "id": "0994b2c0"
   },
   "source": [
    "##### Calcule o desconto do INSS (8% do salário bruto)"
   ]
  },
  {
   "cell_type": "code",
   "execution_count": 25,
   "id": "748c6088",
   "metadata": {
    "id": "748c6088"
   },
   "outputs": [],
   "source": [
    "salarioDescontoINSS = (salarioBruto * 8) / 100"
   ]
  },
  {
   "cell_type": "markdown",
   "id": "06e8dae4",
   "metadata": {
    "id": "06e8dae4"
   },
   "source": [
    "##### Calcule o desconto do sindicato (5% do salário bruto)"
   ]
  },
  {
   "cell_type": "code",
   "execution_count": 26,
   "id": "21b95b15",
   "metadata": {
    "id": "21b95b15",
    "scrolled": true
   },
   "outputs": [],
   "source": [
    "salarioDescontoSindicato = (salarioBruto * 5) / 100"
   ]
  },
  {
   "cell_type": "markdown",
   "id": "bb14ce36",
   "metadata": {
    "id": "bb14ce36"
   },
   "source": [
    "##### Calcule o salário líquido (salário bruto - descontos)"
   ]
  },
  {
   "cell_type": "code",
   "execution_count": 28,
   "id": "56317086",
   "metadata": {
    "id": "56317086"
   },
   "outputs": [
    {
     "name": "stdout",
     "output_type": "stream",
     "text": [
      "Seu salário líquido é de R$: 608.76\n"
     ]
    }
   ],
   "source": [
    "salarioLiquido = salarioBruto -salarioDescontoIR - salarioDescontoINSS - salarioDescontoSindicato\n",
    "\n",
    "print(f\"Seu salário líquido é de R$: {salarioLiquido}\")"
   ]
  },
  {
   "cell_type": "markdown",
   "id": "cfbfcc87",
   "metadata": {
    "id": "cfbfcc87"
   },
   "source": [
    "#### 13. Faça um programa para uma loja de tintas. O programa deverá pedir o tamanho em metros quadrados da área a ser pintada. Considere que a cobertura da tinta é de 1 litro para cada 3 metros quadrados e que a tinta é vendida em latas de 18 litros, que custam R\\$ 80,00. Informe ao usuário a quantidades de latas de tinta a serem compradas e o preço total. (para simplificação nesse momento, não se preocupe em arredondar a quantidade de latas a serem compradas - vamos trabalhar isso em breve)"
   ]
  },
  {
   "cell_type": "markdown",
   "id": "ff2c3264",
   "metadata": {},
   "source": [
    "O tamanho em metros quadrados da área a ser pintada."
   ]
  },
  {
   "cell_type": "code",
   "execution_count": 29,
   "id": "fb6a083b",
   "metadata": {
    "id": "fb6a083b"
   },
   "outputs": [],
   "source": [
    "metrosQuadrados = float(input(\"Digite a quantidade de m² que será pintada: \"))\n",
    "qnt_metro_litro = 3\n",
    "valor_lata = 80.00\n",
    "lata_18l = 18\n",
    "\n",
    "qnt_compra = metrosQuadrados * qnt_metro_litro\n",
    "\n",
    "qnt_lata = qnt_compra / lata_18l\n",
    "\n",
    "valor = qnt_lata * valor_lata"
   ]
  },
  {
   "cell_type": "code",
   "execution_count": 30,
   "id": "408da062",
   "metadata": {},
   "outputs": [
    {
     "name": "stdout",
     "output_type": "stream",
     "text": [
      "Você precisará de 180.0 litros para realizar a pintura de 60.0 m², então precisará de 10.00 latas de 18L e ficará R$ 800.00.\n"
     ]
    }
   ],
   "source": [
    "print(f\"Você precisará de {qnt_compra} litros para realizar a pintura de {metrosQuadrados} m², então precisará de {qnt_lata:.2f} latas de 18L e ficará R$ {valor:.2f}.\" )"
   ]
  },
  {
   "cell_type": "markdown",
   "id": "d6503c92",
   "metadata": {
    "id": "d6503c92"
   },
   "source": [
    "#### 14. Faça um programa que peça o tamanho de um arquivo para download (em MB) e a velocidade de um link de Internet (em Mbps), calcule e informe o tempo aproximado de download do arquivo usando este link (em minutos).\n",
    "\n",
    "Detalhe: MB significa megabyte, Mb (com b minúsculo) significa megabit. Um megabit é 1/8 de um megabyte. "
   ]
  },
  {
   "cell_type": "code",
   "execution_count": null,
   "id": "0563aa62",
   "metadata": {
    "id": "0563aa62"
   },
   "outputs": [
    {
     "name": "stdout",
     "output_type": "stream",
     "text": [
      "O tempo estimado para o download é de 0 e 0 segundos.\n"
     ]
    }
   ],
   "source": [
    "arquivo = float(input(\"Qual o tamanho do arquivo em Mb?\"))\n",
    "velocidade_link = float(input(\"Digite a velocidade do link em Mbps? \"))\n",
    "\n",
    "tamanho_Mb = arquivo * 8\n",
    "# Calcula o tempo de download em segundos\n",
    "tempo_download = tamanho_Mb / velocidade_link\n",
    "\n",
    "# Converte o tempo para minutos e segundos\n",
    "minutos = int(tempo_download // 60)\n",
    "# segundos = int(tempo_download % 60)\n",
    "\n",
    "print(f\"O tempo estimado para o download é de {minutos}\")"
   ]
  },
  {
   "cell_type": "code",
   "execution_count": null,
   "id": "91a0b97d",
   "metadata": {},
   "outputs": [],
   "source": [
    "tamanho = float(input('Informe o tamanho do arquivo em MB: '))\n",
    "velocidade = float(input('Informe a velocidade da conexão em Mbps: '))\n",
    "\n",
    "# aqui trasnformamos megabytes em megabits para que tamanho e velocidade estejam na mesma unidade\n",
    "tamanho_megabits = tamanho * 8\n",
    "\n",
    "tempo = tamanho_megabits / velocidade\n",
    "# transformando em minutos\n",
    "tempo_minutos = tempo / 60\n",
    "print(f'O tempo de download é de {tempo_minutos} minutos')"
   ]
  }
 ],
 "metadata": {
  "colab": {
   "provenance": []
  },
  "kernelspec": {
   "display_name": "base",
   "language": "python",
   "name": "python3"
  },
  "language_info": {
   "codemirror_mode": {
    "name": "ipython",
    "version": 3
   },
   "file_extension": ".py",
   "mimetype": "text/x-python",
   "name": "python",
   "nbconvert_exporter": "python",
   "pygments_lexer": "ipython3",
   "version": "3.12.4"
  }
 },
 "nbformat": 4,
 "nbformat_minor": 5
}
