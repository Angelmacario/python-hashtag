{
 "cells": [
  {
   "cell_type": "code",
   "execution_count": 2,
   "metadata": {},
   "outputs": [
    {
     "name": "stdout",
     "output_type": "stream",
     "text": [
      "O faturamento da loja foi 1000. O custo da loja foi 400. Assim, o lucro da loja foi 600.\n",
      "O faturamento foi de 1000 e o lucro de 600.\n"
     ]
    }
   ],
   "source": [
    "faturamento = 1000\n",
    "custo = 400\n",
    "lucro = faturamento - custo\n",
    "\n",
    "# com format\n",
    "print('O faturamento da loja foi {}. O custo da loja foi {}. Assim, o lucro da loja foi {}.' .format(faturamento, custo, lucro))\n",
    "\n",
    "# com f-string\n",
    "print(f\"O faturamento foi de {faturamento} e o lucro de {faturamento - custo}.\")"
   ]
  },
  {
   "cell_type": "markdown",
   "metadata": {},
   "source": [
    "### Mudança de tipo de variável"
   ]
  },
  {
   "cell_type": "code",
   "execution_count": 7,
   "metadata": {},
   "outputs": [
    {
     "name": "stdout",
     "output_type": "stream",
     "text": [
      "<class 'int'>\n",
      "<class 'int'>\n",
      "5822\n"
     ]
    }
   ],
   "source": [
    "faturamento = int(input(\"Insira o faturamento: \"))\n",
    "custo = int(input(\"Insira o custo: \"))\n",
    "\n",
    "print(type(faturamento))\n",
    "print(type(custo))\n",
    "\n",
    "lucro = faturamento - custo\n",
    "\n",
    "print(lucro)\n",
    "\n",
    "#str -> muda para string\n",
    "#int -> muda para inteiro\n",
    "#float -> muda para float\n",
    "\n"
   ]
  },
  {
   "cell_type": "code",
   "execution_count": null,
   "metadata": {},
   "outputs": [],
   "source": []
  }
 ],
 "metadata": {
  "kernelspec": {
   "display_name": "base",
   "language": "python",
   "name": "python3"
  },
  "language_info": {
   "codemirror_mode": {
    "name": "ipython",
    "version": 3
   },
   "file_extension": ".py",
   "mimetype": "text/x-python",
   "name": "python",
   "nbconvert_exporter": "python",
   "pygments_lexer": "ipython3",
   "version": "3.12.4"
  }
 },
 "nbformat": 4,
 "nbformat_minor": 2
}
