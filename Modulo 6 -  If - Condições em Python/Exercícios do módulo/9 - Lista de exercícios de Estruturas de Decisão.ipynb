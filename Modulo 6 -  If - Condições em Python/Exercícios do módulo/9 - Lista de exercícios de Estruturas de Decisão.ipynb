{
 "cells": [
  {
   "cell_type": "markdown",
   "id": "8535c274",
   "metadata": {
    "id": "8535c274"
   },
   "source": [
    "# Estruturas de decisão\n",
    "\n",
    "<span style=\"color: red;\"><b>Todos os exercícios são feitos partindo-se do pressuposto de que todas as entradas são dadas de forma correta. Casos limite não mencionados no enunciado não são abordados porque não fazem parte do exercício.</b></span>"
   ]
  },
  {
   "cell_type": "markdown",
   "id": "9c3d817e",
   "metadata": {
    "id": "9c3d817e"
   },
   "source": [
    "#### 1. Faça um Programa que peça dois números e imprima o maior deles."
   ]
  },
  {
   "cell_type": "code",
   "execution_count": 2,
   "id": "ae45c028",
   "metadata": {
    "id": "ae45c028"
   },
   "outputs": [
    {
     "name": "stdout",
     "output_type": "stream",
     "text": [
      "O 234 é o maior número.\n"
     ]
    }
   ],
   "source": [
    "num1 = int(input('Digite um número: '))\n",
    "num2 = int(input('Digite mais um número: '))\n",
    "\n",
    "if num1 > num2:\n",
    "    print(f'O {num1} é o maior número.')\n",
    "else:\n",
    "    print(f'O {num2} é o maior número.')"
   ]
  },
  {
   "cell_type": "markdown",
   "id": "ff510803",
   "metadata": {
    "id": "ff510803"
   },
   "source": [
    "#### 2. Faça um Programa que peça um valor e mostre na tela se o valor é positivo ou negativo."
   ]
  },
  {
   "cell_type": "code",
   "execution_count": 3,
   "id": "8952f58f",
   "metadata": {
    "id": "8952f58f"
   },
   "outputs": [
    {
     "name": "stdout",
     "output_type": "stream",
     "text": [
      "O valor é negativo.\n"
     ]
    }
   ],
   "source": [
    "valor = int(input('Digite um número: '))\n",
    "\n",
    "if valor > 0:\n",
    "    print('O valor é positivo.')\n",
    "else:\n",
    "    valor < 0\n",
    "    print('O valor é negativo.')\n"
   ]
  },
  {
   "cell_type": "markdown",
   "id": "6966546b",
   "metadata": {
    "id": "6966546b"
   },
   "source": [
    "#### 3. Faça um Programa que verifique o estado civil de uma pessoa. Se a letra digitada é \"C\" (Casado), \"S\" (Solteiro), \"D\" (Divorciado), \"V\" (Viúvo) ou \"O\" (outros). Conforme a letra escrita pelo usuário seu programa deve escrever o estado civil, exemplo:\n",
    "\n",
    "Usuário digita: C\n",
    "\n",
    "Seu programa deve responder:\n",
    "C - Casado"
   ]
  },
  {
   "cell_type": "code",
   "execution_count": 20,
   "id": "876a1e67",
   "metadata": {
    "id": "876a1e67"
   },
   "outputs": [
    {
     "name": "stdout",
     "output_type": "stream",
     "text": [
      "O - Outros\n"
     ]
    }
   ],
   "source": [
    "estado_civil = input('Digite a letra correspondente ao estado civil: ')\n",
    "\n",
    "if estado_civil == 'C':\n",
    "    print('C - Casado')\n",
    "elif estado_civil == 'S':\n",
    "    print('S - Solteiro')\n",
    "elif estado_civil == 'D':\n",
    "    print('D - Divorciado')\n",
    "elif estado_civil == 'V':\n",
    "    print('V - Viúvo')\n",
    "else:\n",
    "    estado_civil = 'O'\n",
    "    print('O - Outros')\n"
   ]
  },
  {
   "cell_type": "markdown",
   "id": "c122c0cf",
   "metadata": {
    "id": "c122c0cf"
   },
   "source": [
    "#### 4. Faça um Programa que verifique se o e-mail digitado faz parte dos e-mails de spam."
   ]
  },
  {
   "cell_type": "code",
   "execution_count": 22,
   "id": "59bed184",
   "metadata": {
    "id": "59bed184"
   },
   "outputs": [],
   "source": [
    "emails_spam = \"fulano@gmail.com,beltrano@gmail.com,ciclano@gmail.com\"\n",
    "email_usuario = input('Digite seu email:')\n",
    "\n",
    "if email_usuario in emails_spam:\n",
    "    print('Esse email é spam:')\n",
    "\n",
    "else:\n",
    "    ' '\n"
   ]
  },
  {
   "cell_type": "markdown",
   "id": "487ee073",
   "metadata": {
    "id": "487ee073"
   },
   "source": [
    "#### 5. Faça um programa para a leitura de duas notas parciais de um aluno. O programa deve calcular a média alcançada por aluno e apresentar:\n",
    "\n",
    "##### A mensagem \"Aprovado\", se a média alcançada for maior ou igual a sete;\n",
    "##### A mensagem \"Reprovado\", se a média for menor do que sete;\n",
    "##### A mensagem \"Aprovado com Distinção\", se a média for igual a dez."
   ]
  },
  {
   "cell_type": "code",
   "execution_count": 10,
   "id": "7f5c7096",
   "metadata": {
    "id": "7f5c7096"
   },
   "outputs": [
    {
     "name": "stdout",
     "output_type": "stream",
     "text": [
      "Aprovado com Distinção\n"
     ]
    }
   ],
   "source": [
    "nota1 = float(input('Digite a 1ª nota: '))\n",
    "nota2 = float(input('Digite a 2ª nota: '))\n",
    "\n",
    "media = (nota1 + nota2) / 2\n",
    "\n",
    "if media >= 7:\n",
    "    print('Aprovado')\n",
    "elif media < 7:\n",
    "        print('Reprovado')\n",
    "else:\n",
    "    media >= 10\n",
    "    print('Aprovado com Distinção')"
   ]
  },
  {
   "cell_type": "markdown",
   "id": "6dd3f171",
   "metadata": {
    "id": "6dd3f171"
   },
   "source": [
    "#### 6. Faça um Programa que leia o orçamento de 3 empresas e mostre o maior deles."
   ]
  },
  {
   "cell_type": "code",
   "execution_count": null,
   "id": "51b591e5",
   "metadata": {
    "id": "51b591e5"
   },
   "outputs": [
    {
     "name": "stdout",
     "output_type": "stream",
     "text": [
      "100.0\n"
     ]
    }
   ],
   "source": [
    "orcamento1 = float(input('Digite o orçamento da 1ª empresa: '))\n",
    "orcamento2 = float(input('Digite o orçamento da 2ª empresa: '))\n",
    "orcamento3 = float(input('Digite o orçamento da 3ª empresa: '))\n",
    "\n",
    "if orcamento1 > orcamento2 and orcamento3:\n",
    "    print(f'{orcamento1}')\n",
    "elif orcamento2 > orcamento1 and orcamento3:\n",
    "    print(f'{orcamento2}')\n",
    "else:\n",
    "    orcamento3 > orcamento1 and orcamento2\n",
    "    print(f'{orcamento3}')"
   ]
  },
  {
   "cell_type": "markdown",
   "id": "ce09ed1c",
   "metadata": {
    "id": "ce09ed1c"
   },
   "source": [
    "#### 7. Faça um Programa que leia três orçamentos e mostre o maior e o menor deles."
   ]
  },
  {
   "cell_type": "code",
   "execution_count": 70,
   "id": "249f1eb8",
   "metadata": {
    "id": "249f1eb8"
   },
   "outputs": [
    {
     "name": "stdout",
     "output_type": "stream",
     "text": [
      "O orçamento 1 é o menor: 10.0\n",
      "O orçamento 3 é o maior: 12.0\n"
     ]
    }
   ],
   "source": [
    "orcamento1 = float(input('Digite o orçamento da 1ª empresa: '))\n",
    "orcamento2 = float(input('Digite o orçamento da 2ª empresa: '))\n",
    "orcamento3 = float(input('Digite o orçamento da 3ª empresa: '))\n",
    "\n",
    "if orcamento1 > orcamento2 and orcamento3:\n",
    "    print(f'O orçamento 1 é o maior: {orcamento1}')\n",
    "elif orcamento1 < orcamento2 and orcamento3:\n",
    "    print(f'O orçamento 1 é o menor: {orcamento1}')\n",
    "else:\n",
    "    orcamento2 > orcamento1 and orcamento3\n",
    "    print(f'O orçamento 2 é o maior: {orcamento2}')\n",
    "\n",
    "if orcamento2 < orcamento1 and orcamento3:\n",
    "    print(f'O orçamento 2 é o maior: {orcamento2}')\n",
    "elif orcamento3 < orcamento1 and orcamento2:\n",
    "    print(f'O orçamento 3 é o menor: {orcamento3}')\n",
    "else:\n",
    "    orcamento3 > orcamento1 and orcamento2\n",
    "    print(f'O orçamento 3 é o maior: {orcamento3}')"
   ]
  },
  {
   "cell_type": "markdown",
   "id": "7453d43a",
   "metadata": {
    "id": "7453d43a"
   },
   "source": [
    "#### 8. Faça um programa que pergunte o preço de três produtos e informe qual produto você deve comprar, sabendo que a decisão é sempre pelo mais barato."
   ]
  },
  {
   "cell_type": "code",
   "execution_count": 50,
   "id": "26a9503e",
   "metadata": {
    "id": "26a9503e"
   },
   "outputs": [
    {
     "name": "stdout",
     "output_type": "stream",
     "text": [
      "O produto mais barato é o que custa: 30.0\n"
     ]
    }
   ],
   "source": [
    "preco1 = float(input('Digite o preço do 1º produto: '))\n",
    "preco2 = float(input('Digite o preço do 2º produto: '))\n",
    "preco3 = float(input('Digite o preço do 3º produto: '))\n",
    "\n",
    "if preco1 and preco2 > preco3:\n",
    "    print(f'O produto mais barato é o que custa: {preco3}')\n",
    "elif preco1 and preco3 > preco2:\n",
    "    print(f'O produto mais barato é o que custa: {preco2}')\n",
    "else:\n",
    "    preco2 and preco3 > preco3\n",
    "    print(f'O produto mais barato é o que custa: {preco3}')"
   ]
  },
  {
   "cell_type": "markdown",
   "id": "9ade258f",
   "metadata": {
    "id": "9ade258f"
   },
   "source": [
    "#### 9. Faça um Programa que leia três números e mostre-os em ordem decrescente."
   ]
  },
  {
   "cell_type": "code",
   "execution_count": 72,
   "id": "f194c39e",
   "metadata": {
    "id": "f194c39e"
   },
   "outputs": [
    {
     "name": "stdout",
     "output_type": "stream",
     "text": [
      "O 1º número é: 12\n",
      "O 2º número é: 11\n",
      "O 3º número é: 10\n"
     ]
    }
   ],
   "source": [
    "num1 = int(input('Digite 1º número: '))\n",
    "num2 = int(input('Digite 2º número: '))\n",
    "num3 = int(input('Digite 3º número: '))\n",
    "\n",
    "if num1 > num2 and num1 > num3:\n",
    "    print(f'O 1º número é: {num1}')\n",
    "    if num2 > num3:\n",
    "        print(f'O 2º número é: {num2}')\n",
    "        print(f'O 3º número é: {num3}')\n",
    "    else:\n",
    "        print(f'O 2º número é: {num3}')\n",
    "        print(f'O 3º número é: {num2}')\n",
    "\n",
    "elif num2 > num1 and num2 > num3:\n",
    "    print(f'O 1º número é: {num2}')\n",
    "    if num1 > num3:\n",
    "        print(f'O 2º número é: {num1}')\n",
    "        print(f'O 3º número é: {num3}')\n",
    "    else:\n",
    "        print(f'O 2º número é: {num3}')\n",
    "        print(f'O 3º número é: {num1}')\n",
    "\n",
    "elif num3 > num1 and num3 > num2:\n",
    "    print(f'O 1º número é: {num3}')\n",
    "    if num1 > num2:\n",
    "        print(f'O 2º número é: {num1}')         \n",
    "        print(f'O 3º número é: {num2}')\n",
    "    else:\n",
    "        print(f'O 2º número é: {num2}')\n",
    "        print(f'O 3º número é: {num1}')"
   ]
  },
  {
   "cell_type": "markdown",
   "id": "d06e2fe8",
   "metadata": {
    "id": "d06e2fe8"
   },
   "source": [
    "#### 10. Faça um Programa que pergunte em que turno você estuda. Peça para digitar M-matutino ou V-Vespertino ou N- Noturno. Imprima a mensagem \"Bom Dia!\", \"Boa Tarde!\" ou \"Boa Noite!\" ou \"Valor Inválido!\", conforme o caso."
   ]
  },
  {
   "cell_type": "code",
   "execution_count": 77,
   "id": "1eb36141",
   "metadata": {
    "id": "1eb36141"
   },
   "outputs": [
    {
     "name": "stdout",
     "output_type": "stream",
     "text": [
      "Boa noite!\n"
     ]
    }
   ],
   "source": [
    "turno = input('Qual o turno que estuda? Digite M-matutino, V-Vespertino ou N-Noturno: ')\n",
    "\n",
    "if turno == 'M':\n",
    "    print(\"Bom dia!\")\n",
    "elif turno == 'V':\n",
    "    print(\"Boa tarde!\")\n",
    "elif turno == 'N':\n",
    "    print(\"Boa noite!\")\n",
    "else:\n",
    "    print(\"Valor Inválido!\")"
   ]
  },
  {
   "cell_type": "markdown",
   "id": "4864b755",
   "metadata": {
    "id": "4864b755"
   },
   "source": [
    "#### 11. As Organizações Tabajara resolveram dar um aumento de salário aos seus colaboradores e lhe contraram para desenvolver o programa que calculará os reajustes. Faça um programa que recebe o salário de um colaborador e o reajuste segundo o seguinte critério, baseado no salário atual:\n",
    "\n",
    "##### salários até R\\\\$ 280,00 (incluindo) : aumento de 20% \n",
    "\n",
    "##### salários entre R\\\\$ 280,00 e R\\\\$ 700,00 : aumento de 15% \n",
    "\n",
    "##### salários entre R\\\\$ 700,00 e R\\\\$ 1500,00 : aumento de 10% \n",
    "\n",
    "##### salários de R\\\\$ 1500,00 em diante : aumento de 5% Após o aumento ser realizado, informe na tela: \n",
    "\n",
    "###### o salário antes do reajuste;\n",
    "\n",
    "###### o percentual de aumento aplicado;\n",
    "\n",
    "###### o valor do aumento;\n",
    "\n",
    "###### o novo salário, após o aumento.\n",
    "\n",
    "###### Obs: Não vamos nos preocupar tanto com a formatação dos números (nº de casas decimais, por exemplo, veremos isso no próximo módulo)"
   ]
  },
  {
   "cell_type": "code",
   "execution_count": null,
   "id": "f0d34916",
   "metadata": {
    "id": "f0d34916"
   },
   "outputs": [
    {
     "name": "stdout",
     "output_type": "stream",
     "text": [
      "O salário antes do reajuste R$ 1800.0\n",
      "O percentual de aumento foi de 5%.\n",
      "O valor do aumento foi de R$180.0\n",
      "O novo salário é R$ 1980.0\n"
     ]
    }
   ],
   "source": [
    "salario = float(input('Digite o seu salário'))\n",
    "\n",
    "if salario <= 280:\n",
    "    aumento  = salario * 0.20\n",
    "    novo_salario = salario + aumento\n",
    "    print(f'O salário antes do reajuste R$ {salario}')\n",
    "    print('O percentual de aumento foi de 20%.')\n",
    "    print(f'O valor do aumento foi de R${aumento}')\n",
    "    print(f'O novo salário é R$ {novo_salario}')\n",
    "\n",
    "elif salario > 280 and salario < 700:\n",
    "    aumento  = salario * 0.15\n",
    "    novo_salario = salario + aumento\n",
    "    print(f'O salário antes do reajuste R$ {salario}')\n",
    "    print('O percentual de aumento foi de 15%.')\n",
    "    print(f'O valor do aumento foi de R${aumento}')\n",
    "    print(f'O novo salário é R$ {novo_salario}')\n",
    "\n",
    "elif salario > 700 and salario < 1500:\n",
    "    aumento  = salario * 0.10\n",
    "    novo_salario = salario + aumento\n",
    "    print(f'O salário antes do reajuste R$ {salario}')\n",
    "    print('O percentual de aumento foi de 10%.')\n",
    "    print(f'O valor do aumento foi de R${aumento}')\n",
    "    print(f'O novo salário é R$ {novo_salario}')\n",
    "\n",
    "else:\n",
    "    salario > 1500\n",
    "    aumento  = salario * 0.05\n",
    "    novo_salario = salario + aumento\n",
    "    print(f'O salário antes do reajuste R$ {salario}')\n",
    "    print('O percentual de aumento foi de 5%.')\n",
    "    print(f'O valor do aumento foi de R${aumento}')\n",
    "    print(f'O novo salário é R$ {novo_salario}')"
   ]
  },
  {
   "cell_type": "markdown",
   "id": "b037f1e8",
   "metadata": {
    "id": "b037f1e8"
   },
   "source": [
    "#### 12 . Faça um programa para o cálculo de uma folha de pagamento, sabendo que os descontos são do Imposto de Renda, que depende do salário bruto (conforme tabela abaixo) e que o FGTS corresponde a 11% do Salário Bruto, mas não é descontado (é a empresa que deposita). O Salário Líquido corresponde ao Salário Bruto menos os descontos. O programa deverá pedir ao usuário o valor da sua hora e a quantidade de horas trabalhadas no mês.\n",
    "\n",
    "Desconto do IR:<br>\n",
    "Salário Bruto até 900 (inclusive) - isento<br>\n",
    "Salário Bruto até 1500 (inclusive) - desconto de 5%<br>\n",
    "Salário Bruto até 2500 (inclusive) - desconto de 10%<br>\n",
    "Salário Bruto acima de 2500 - desconto de 20%<br>\n",
    "Imprima na tela as informações, dispostas conforme o exemplo abaixo. No exemplo o valor da hora é 5 e a quantidade de hora é 220.\n",
    "\n",
    "Salário Bruto: (5 * 220)        : R\\\\$ 1100,00<br>\n",
    "(-) IR (5%)                     : R\\\\$   55,00<br>\n",
    "(-) INSS ( 10%)                 : R\\\\$  110,00<br>\n",
    "FGTS (11%)                      : R\\\\$  121,00<br>\n",
    "Total de descontos              : R\\\\$  165,00<br>\n",
    "Salário Liquido                 : R\\\\$  935,00<br>\n",
    "\n",
    "###### Obs: Não vamos nos preocupar tanto com a formatação dos números (nº de casas decimais, por exemplo, veremos isso no próximo módulo)"
   ]
  },
  {
   "cell_type": "code",
   "execution_count": 100,
   "id": "dad18bb2",
   "metadata": {
    "id": "dad18bb2"
   },
   "outputs": [
    {
     "name": "stdout",
     "output_type": "stream",
     "text": [
      "Salário Bruto R$ 1100.0\n",
      "IR R$ 0.049999999999954525\n",
      "(-)INSS R$ 1099.9\n",
      "Total de descontos R$ 2199.8500000000004\n",
      "Salário líquido R$ -1099.8500000000004\n"
     ]
    }
   ],
   "source": [
    "valor_hora = float(input('Digite o valor da sua hora: '))\n",
    "horas_trabalhadas = float(input('Digite a quantidade de horas trabalhadas: '))\n",
    "\n",
    "salario_bruto = valor_hora * horas_trabalhadas\n",
    "\n",
    "if salario_bruto <= 900:\n",
    "    desconto_ir = salario_bruto - 0\n",
    "    desconto_inss = salario_bruto - 0.10\n",
    "    fgts = salario_bruto + 0.11\n",
    "    total_descontos = desconto_ir + desconto_inss\n",
    "    salario_liquido = salario_bruto - total_descontos\n",
    "    print(f'Salário Bruto R$ {salario_bruto}')\n",
    "    print(f'IR R$ {desconto_ir}')\n",
    "    print(f'(-)INSS R$ {desconto_inss}')\n",
    "    print(f'Total de descontos R$ {total_descontos}')\n",
    "    print(f'Salário líquido R$ {salario_liquido}')\n",
    "\n",
    "elif salario_bruto <= 1500:\n",
    "        desconto_ir = salario_bruto - 0.05\n",
    "        desconto_inss = salario_bruto - 0.10\n",
    "        fgts = salario_bruto + 0.11\n",
    "        total_descontos = desconto_ir + desconto_inss\n",
    "        salario_liquido = salario_bruto - total_descontos\n",
    "        print(f'Salário Bruto R$ {salario_bruto}')\n",
    "        print(f'IR R$ {salario_bruto - desconto_ir}')\n",
    "        print(f'(-)INSS R$ {desconto_inss}')\n",
    "        print(f'Total de descontos R$ {total_descontos}')\n",
    "        print(f'Salário líquido R$ {salario_liquido}')\n",
    "\n",
    "elif salario_bruto <= 2500:\n",
    "        desconto_ir = salario_bruto - 0.10\n",
    "        desconto_inss = salario_bruto * 0.10\n",
    "        fgts = salario_bruto + 0.11\n",
    "        total_descontos = desconto_ir + desconto_inss\n",
    "        salario_liquido = salario_bruto - total_descontos\n",
    "        print(f'Salário Bruto R$ {salario_bruto}')\n",
    "        print(f'IR R$ {salario_bruto - desconto_ir}')\n",
    "        print(f'(-)INSS R$ {desconto_inss}')\n",
    "        print(f'Total de descontos R$ {total_descontos}')\n",
    "        print(f'Salário líquido R$ {salario_liquido}')\n",
    "\n",
    "else:\n",
    "         salario_bruto > 2500\n",
    "         desconto_ir = salario_bruto - 0.20\n",
    "         desconto_inss = salario_bruto - 0.10\n",
    "         fgts = salario_bruto + 0.11\n",
    "         total_descontos = desconto_ir + desconto_inss\n",
    "         salario_liquido = salario_bruto - total_descontos\n",
    "         print(f'Salário Bruto R$ {salario_bruto}')\n",
    "         print(f'IR R$ {desconto_ir}')\n",
    "         print(f'(-)INSS R$ {desconto_inss}')\n",
    "         print(f'Total de descontos R$ {total_descontos}')\n",
    "         print(f'Salário líquido R$ {salario_liquido}')"
   ]
  },
  {
   "cell_type": "code",
   "execution_count": 101,
   "id": "e30ace29",
   "metadata": {},
   "outputs": [
    {
     "name": "stdout",
     "output_type": "stream",
     "text": [
      "Salário Bruto: (5.0 * 220.0) : R$ 1100.00\n",
      "(-) IR (5%)                     : R$ 55.00\n",
      "(-) INSS (10%)                   : R$ 110.00\n",
      "FGTS (11%)                        : R$ 121.00\n",
      "Total de descontos                : R$ 165.00\n",
      "Salário Líquido                   : R$ 935.00\n"
     ]
    }
   ],
   "source": [
    "# Entrada de dados\n",
    "valor_hora = float(input('Digite o valor da sua hora: '))\n",
    "horas_trabalhadas = float(input('Digite a quantidade de horas trabalhadas no mês: '))\n",
    "\n",
    "# Cálculo do salário bruto\n",
    "salario_bruto = valor_hora * horas_trabalhadas\n",
    "\n",
    "# Definição do desconto do IR\n",
    "if salario_bruto <= 900:\n",
    "    aliquota_ir = 0  # Isento\n",
    "elif salario_bruto <= 1500:\n",
    "    aliquota_ir = 0.05  # 5%\n",
    "elif salario_bruto <= 2500:\n",
    "    aliquota_ir = 0.10  # 10%\n",
    "else:\n",
    "    aliquota_ir = 0.20  # 20%\n",
    "\n",
    "# Cálculo dos descontos\n",
    "desconto_ir = salario_bruto * aliquota_ir\n",
    "desconto_inss = salario_bruto * 0.10  # 10% fixo\n",
    "fgts = salario_bruto * 0.11  # 11% pago pela empresa, não descontado\n",
    "total_descontos = desconto_ir + desconto_inss\n",
    "salario_liquido = salario_bruto - total_descontos\n",
    "\n",
    "# Exibição dos resultados\n",
    "print(f'Salário Bruto: ({valor_hora} * {horas_trabalhadas}) : R$ {salario_bruto:.2f}')\n",
    "print(f'(-) IR ({aliquota_ir*100:.0f}%)                     : R$ {desconto_ir:.2f}')\n",
    "print(f'(-) INSS (10%)                   : R$ {desconto_inss:.2f}')\n",
    "print(f'FGTS (11%)                        : R$ {fgts:.2f}')\n",
    "print(f'Total de descontos                : R$ {total_descontos:.2f}')\n",
    "print(f'Salário Líquido                   : R$ {salario_liquido:.2f}')\n"
   ]
  },
  {
   "cell_type": "markdown",
   "id": "814fc211",
   "metadata": {
    "id": "814fc211"
   },
   "source": [
    "#### 13. Faça um Programa que leia um número e exiba o dia correspondente da semana. (1-Domingo, 2- Segunda, etc.), se digitar outro valor deve aparecer valor inválido."
   ]
  },
  {
   "cell_type": "code",
   "execution_count": 127,
   "id": "f2c2b8d8",
   "metadata": {
    "id": "f2c2b8d8"
   },
   "outputs": [
    {
     "name": "stdout",
     "output_type": "stream",
     "text": [
      "3 - Terça\n"
     ]
    }
   ],
   "source": [
    "dia_semana = int(input('Qual o dia da semana: 1 - Domingo | 2 - Segunda | 3 - Terça | 4 - Quarta | 5 - Quinta | 6 - Sexta | 7 - Sábado: '))\n",
    "\n",
    "if dia_semana == 1:\n",
    "    print('1 - Domingo')\n",
    "elif dia_semana == 2:\n",
    "    print('2 - Segunda')\n",
    "elif dia_semana == 3:\n",
    "    print('3 - Terça')\n",
    "elif dia_semana == 4:\n",
    "    print('4 - Quarta')\n",
    "elif dia_semana == 5:\n",
    "    print('5 - Quinta')\n",
    "elif dia_semana == 6:\n",
    "    print('6 - Sexta')\n",
    "elif dia_semana == 7:\n",
    "    print('7 - Sábado')\n",
    "else:\n",
    "      print('Valor inválido!')"
   ]
  },
  {
   "cell_type": "markdown",
   "id": "6e5f461e",
   "metadata": {
    "id": "6e5f461e"
   },
   "source": [
    "#### 14. Faça um programa que lê as duas notas parciais obtidas por um aluno numa disciplina ao longo de um semestre, e calcule a sua média. Em seguida, mostre qual conceito o aluno teve. A atribuição de conceitos obedece à tabela abaixo:\n",
    "<pre>\n",
    "Média de Aproveitamento  Conceito\n",
    "Entre 9.0 e 10.0        A\n",
    "Entre 7.5 e 9.0         B\n",
    "Entre 6.0 e 7.5         C\n",
    "Entre 4.0 e 6.0         D\n",
    "Entre 4.0 e zero        E\n",
    "</pre>"
   ]
  },
  {
   "cell_type": "code",
   "execution_count": 140,
   "id": "29721a43",
   "metadata": {
    "id": "29721a43"
   },
   "outputs": [
    {
     "name": "stdout",
     "output_type": "stream",
     "text": [
      "Média: 9.0\n",
      "Conceito A\n"
     ]
    }
   ],
   "source": [
    "nota1 = float(input('Digite a 1ª nota: '))\n",
    "nota2 = float(input('Digite a 2ª nota: '))\n",
    "\n",
    "media = (nota1 + nota2) / 2\n",
    "\n",
    "if 9.0 <= media <= 10.0:\n",
    "    conceito = 'A'\n",
    "    # print('Conceito A')\n",
    "\n",
    "elif 7.5 <= media < 9.0:\n",
    "    conceito = 'B'\n",
    "    # print('Conceito B')\n",
    "\n",
    "elif 6.0 <= media < 7.5:\n",
    "    conceito = 'C'\n",
    "    # print('Conceito C')\n",
    "\n",
    "elif 4.0 <= media < 6.00:\n",
    "    conceito = 'D'\n",
    "    # print('Conceito D')\n",
    "\n",
    "else:\n",
    "    # 4.0 <= media < 0\n",
    "    conceito = 'E'\n",
    "    # print('Conceito E')\n",
    "\n",
    "print(f'Média: {media}')\n",
    "print(f'Conceito {conceito}')"
   ]
  },
  {
   "cell_type": "markdown",
   "id": "e6b3bcaf",
   "metadata": {
    "id": "e6b3bcaf"
   },
   "source": [
    "#### 15. Você está construindo um calendário para controlar dias de trabalho a pedido do RH. Nessa construção, você vai precisar definir quais anos são bissextos e quais não são, para montar o calendário de forma correta. Faça um Programa que peça um número correspondente a um determinado ano e em seguida informe se este ano é ou não bissexto.\n",
    "<pre>\n",
    "Dica para determinar se um ano é bissexto: \n",
    "- São bissextos todos os anos múltiplos de 400, p.ex.: 1600, 2000, 2400, 2800...\n",
    "- São bissextos todos os múltiplos de 4, exceto se for múltiplo de 100 mas não de 400, \n",
    "p.ex.: 1996, 2000, 2004, 2008, 2012, 2016, 2020, 2024, 2028...\n",
    "- Não são bissextos todos os demais anos.<br>\n",
    "ex1: 2004 é múltiplo de 4, mas não é múltiplo de 100, então é bissexto.\n",
    "ex2: 2000 é múltiplo de 4, mas é múltiplo de 100, só que também é multiplo de 400, então é bissexto (porque todo ano múltiplo de 400 é bissexto, independente do resto).\n",
    "ex3: 1900 é múltiplo de 4, é múltiplo de 100, mas não é múltiplo de 400, então não é bissexto\n",
    "\n",
    "</pre>\n",
    "\n",
    "Dica: lembre que: numero % 4 é o resto da divisão do número por 4, ex: 10 % 3 = 1 (já que 10/3 = 3 e resta 1)"
   ]
  },
  {
   "cell_type": "code",
   "execution_count": 145,
   "id": "56af223f",
   "metadata": {
    "id": "56af223f"
   },
   "outputs": [
    {
     "name": "stdout",
     "output_type": "stream",
     "text": [
      "2000 é um ano bissexto!\n"
     ]
    }
   ],
   "source": [
    "#entrada de valores\n",
    "ano = int(input('Digite o ano: '))\n",
    "\n",
    "#1ª parte da verificação\n",
    "if ano % 4 == 0 and (ano % 100 != 0 or ano % 400 ==0):\n",
    "    print(f'{ano} é um ano bissexto!')\n",
    "#2ª parte da verificação\n",
    "else:\n",
    "    print(f'{ano} é não é um ano bissexto')"
   ]
  },
  {
   "cell_type": "markdown",
   "id": "9fe532c8",
   "metadata": {
    "id": "9fe532c8"
   },
   "source": [
    "#### 16. Faça um Programa para leitura de três notas parciais de um aluno. O programa deve calcular a média alcançada por aluno e presentar:\n",
    "<pre>\n",
    "A mensagem \"Aprovado\", se a média for maior ou igual a 7, com a respectiva média alcançada;\n",
    "A mensagem \"Reprovado\", se a média for menor do que 7, com a respectiva média alcançada;\n",
    "A mensagem \"Aprovado com Distinção\", se a média for igual a 10.\n",
    "</pre>"
   ]
  },
  {
   "cell_type": "code",
   "execution_count": 148,
   "id": "1a56e99f",
   "metadata": {
    "id": "1a56e99f"
   },
   "outputs": [
    {
     "name": "stdout",
     "output_type": "stream",
     "text": [
      "Aprovado(a) com Distinção\n",
      "Média: 10.00\n"
     ]
    }
   ],
   "source": [
    "nota1 = float(input('Digite a 1ª nota: '))\n",
    "nota2 = float(input('Digite a 2ª nota: '))\n",
    "nota3 = float(input('Digite a 3ª nota: '))\n",
    "\n",
    "media = (nota1 + nota2 +nota3) / 3\n",
    "\n",
    "if media == 10.0:\n",
    "    print('Aprovado(a) com Distinção')\n",
    "\n",
    "elif media > 7.0:\n",
    "    print('Aprovado(a)')\n",
    "\n",
    "else:\n",
    "    media < 7.0\n",
    "    print('Reprovado (a)')\n",
    "\n",
    "print(f'Média: {media:.2f}')\n",
    "# print(f'Conceito {conceito}')"
   ]
  },
  {
   "cell_type": "markdown",
   "id": "d544412e",
   "metadata": {
    "id": "d544412e"
   },
   "source": [
    "#### 17. João Papo-de-Pescador, homem de bem, comprou um microcomputador para controlar o rendimento diário de seu trabalho. Toda vez que ele traz um peso de peixes maior que o estabelecido pelo regulamento de pesca do estado de São Paulo (50 quilos) deve pagar uma multa de R$ 4,00 por quilo excedente. João precisa que você faça um programa que leia a variável peso (peso de peixes) e calcule o excesso. Gravar na variável excesso a quantidade de quilos além do limite e na variável multa o valor da multa que João deverá pagar. Imprima os dados do programa com as mensagens adequadas."
   ]
  },
  {
   "cell_type": "code",
   "execution_count": 149,
   "id": "971ed027",
   "metadata": {
    "id": "971ed027"
   },
   "outputs": [
    {
     "name": "stdout",
     "output_type": "stream",
     "text": [
      "Peso de peixes é 70.0\n",
      "O excesso de peso de peixes é 20.0 e a multa será de 80.0\n"
     ]
    }
   ],
   "source": [
    "# recebe a entrada dos valores\n",
    "peso_peixes = float(input('Digite o peso: '))\n",
    "\n",
    "# calcula a média dos valores\n",
    "media = (nota1 + nota2 +nota3) / 3\n",
    "\n",
    "# recebe o peso dos peixes\n",
    "if peso_peixes == 50.0:\n",
    "    print('Não paga multa!')\n",
    "\n",
    "# verifica o peso dos peixes e se há multas para pagar\n",
    "else:\n",
    "    peso_peixes != 50\n",
    "    excesso = peso_peixes - 50\n",
    "    multa = excesso * 4\n",
    "    print(f'Peso de peixes é {peso_peixes}')\n",
    "    print(f'O excesso de peso de peixes é {excesso} quilos e a multa será de {multa}')"
   ]
  },
  {
   "cell_type": "markdown",
   "id": "0e5256e0",
   "metadata": {
    "id": "0e5256e0"
   },
   "source": [
    "#### 18. Faça um Programa para um caixa eletrônico. O programa deverá perguntar ao usuário a valor do saque e depois informar quantas notas de cada valor serão fornecidas. As notas disponíveis serão as de 1, 5, 10, 50 e 100 reais. O valor mínimo é de 10 reais e o máximo de 600 reais. O programa não deve se preocupar com a quantidade de notas existentes na máquina.\n",
    "<pre>\n",
    "Exemplo 1: Para sacar a quantia de 256 reais, o programa fornece duas notas de 100, uma nota de 50, uma nota de 5 e uma nota de 1;\n",
    "Exemplo 2: Para sacar a quantia de 399 reais, o programa fornece três notas de 100, uma nota de 50, quatro notas de 10, uma nota de 5 e quatro notas de 1.\n",
    "</pre>\n",
    "\n",
    "Dica1: numero // 10 vai te dar como resposta a parte inteira da divisão do número por 10.<br>\n",
    "Dica2: numero % 10 vai te dar o resto da divisão do número por 10."
   ]
  },
  {
   "cell_type": "code",
   "execution_count": 152,
   "id": "9b4244c7",
   "metadata": {
    "id": "9b4244c7"
   },
   "outputs": [
    {
     "name": "stdout",
     "output_type": "stream",
     "text": [
      "Notas fornecidas:\n",
      "5 notas de R$100\n",
      "1 notas de R$50\n",
      "1 notas de R$10\n",
      "1 notas de R$5\n",
      "2 notas de R$1\n"
     ]
    }
   ],
   "source": [
    "# Solicita o valor do saque\n",
    "valor_saque = int(input('Digite o o valor de saque. O saque deve estar entre R$10 e R$600. '))\n",
    "\n",
    "#O valor é decomposto nas maiores notas possíveis, seguindo a ordem: 100, 50, 10, 5 e 1 real.\n",
    "if valor_saque >= 10 and valor_saque <= 600:\n",
    "    notas_100 = valor_saque // 100\n",
    "    valor_saque %= 100\n",
    "\n",
    "    notas_50 = valor_saque // 50\n",
    "    valor_saque %= 50\n",
    "\n",
    "    notas_10 = valor_saque // 10\n",
    "    valor_saque %= 10\n",
    "\n",
    "    notas_5 = valor_saque // 5\n",
    "    valor_saque %= 5\n",
    "\n",
    "    notas_1 = valor_saque # O que sobrar será em notas de 1 real\n",
    "\n",
    "    # Exibe o resultado\n",
    "    print(\"Notas fornecidas:\")\n",
    "    # Faz verificação do valor nota por nota\n",
    "    if notas_100 > 0:\n",
    "        print(f'{notas_100} notas de R$100')\n",
    "    if notas_50 > 0:\n",
    "        print(f'{notas_50} notas de R$50')\n",
    "    if notas_10 > 0:\n",
    "        print(f'{notas_10} notas de R$10')\n",
    "    if notas_5 > 0:\n",
    "        print(f'{notas_5} notas de R$5')\n",
    "    if notas_1 > 0:\n",
    "        print(f'{notas_1} notas de R$1')\n",
    "\n",
    "else:\n",
    "    print('Valor inválido! O saque deve estar entre R$10 e R$600.')\n"
   ]
  },
  {
   "cell_type": "markdown",
   "id": "cba47494",
   "metadata": {
    "id": "cba47494"
   },
   "source": [
    "#### 19. Faça um programa que faça 5 perguntas para uma pessoa sobre um crime. As perguntas são:\n",
    "<pre>\n",
    "\"Telefonou para a vítima?\"\n",
    "\"Esteve no local do crime?\"\n",
    "\"Mora perto da vítima?\"\n",
    "\"Devia para a vítima?\"\n",
    "\"Já trabalhou com a vítima?\" \n",
    "O programa deve no final emitir uma classificação sobre a participação da pessoa no crime. Se a pessoa responder positivamente a 2 questões ela deve ser classificada como \"Suspeita\", entre 3 e 4 como \"Cúmplice\" e 5 como \"Assassino\". Caso contrário, ele será classificado como \"Inocente\".\n",
    "</pre>"
   ]
  },
  {
   "cell_type": "code",
   "execution_count": null,
   "id": "5fdf9b88",
   "metadata": {
    "id": "5fdf9b88"
   },
   "outputs": [
    {
     "name": "stdout",
     "output_type": "stream",
     "text": [
      "Assassino\n"
     ]
    }
   ],
   "source": [
    "# Solicita o valor das perguntas:\n",
    "pergunta1 = input('Telefonou para vítima? Digite S - Sim e N - Não').strip().upper()\n",
    "pergunta2 = input('Esteve no local do crime? Digite S - Sim e N - Não').strip().upper()\n",
    "pergunta3 = input('Mora perto da vítima? Digite S - Sim e N - Não').strip().upper()\n",
    "pergunta4 = input('Devia para a vítima? Digite S - Sim e N - Não').strip().upper()\n",
    "pergunta5 = input('Já trabalhou com a vítima? Digite S - Sim e N - Não').strip().upper()\n",
    "\n",
    "# faz a contagem das perguntas:\n",
    "pontuacao = (pergunta1 == 'S') + (pergunta2 == 'S') + (pergunta3 == 'S') + (pergunta4 == 'S') + (pergunta5 == 'S')\n",
    "\n",
    "# Converte as respostas para pontuação\n",
    "# respostas = [pergunta1, pergunta2, pergunta3, pergunta4, pergunta5]\n",
    "# pontuacao = respostas.count('S')\n",
    "\n",
    "# faz a verificação das perguntas para classificação:\n",
    "if pontuacao == 2:\n",
    "    print('Suspeito')\n",
    "elif 3 <= pontuacao <= 4:\n",
    "        print('Cúmplice')\n",
    "elif pontuacao == 5:\n",
    "        print('Assassino')\n",
    "else:\n",
    "        pontuacao < 2\n",
    "        print('Inocente')"
   ]
  },
  {
   "cell_type": "markdown",
   "id": "18901e98",
   "metadata": {
    "id": "18901e98"
   },
   "source": [
    "#### 20. Um posto está vendendo combustíveis com a seguinte tabela de descontos:\n",
    "<pre>\n",
    "Álcool:\n",
    "até 20 litros, desconto de 3% por litro\n",
    "acima de 20 litros, desconto de 5% por litro\n",
    "Gasolina:\n",
    "até 20 litros, desconto de 4% por litro\n",
    "acima de 20 litros, desconto de 6% por litro\n",
    "\n",
    "Escreva um algoritmo que leia o número de litros vendidos, o tipo de combustível (codificado da seguinte forma: A-álcool, G-gasolina), calcule e imprima o valor a ser pago pelo cliente sabendo-se que o preço do litro da gasolina é R$ 2,50 o preço do litro do álcool é R$ 1,90.\n",
    "</pre>"
   ]
  },
  {
   "cell_type": "code",
   "execution_count": 197,
   "id": "a1fd8c38",
   "metadata": {
    "id": "a1fd8c38"
   },
   "outputs": [
    {
     "name": "stdout",
     "output_type": "stream",
     "text": [
      "Você ganhou 3% de desconto no álcool. O total a ser pago é de 18.43\n",
      "Você ganhou 4% de desconto na gasolina. O total a ser pago é de 24.0\n"
     ]
    }
   ],
   "source": [
    "litros = float(input('Digite a quantidade de litros: '))\n",
    "combustivel = input('Digite o tipo de combustível: A-álcool, G-gasolina').strip().upper()\n",
    "\n",
    "if litros <= 20:\n",
    "    combustivel = 'a'\n",
    "    total_alcool = litros * 1.90\n",
    "    desconto = total_alcool * 0.03\n",
    "    print(f'Você ganhou 3% de desconto no álcool. O total a ser pago é de {total_alcool - desconto}')\n",
    "\n",
    "    if litros > 20:\n",
    "        combustivel = 'a'\n",
    "        total_alcool = litros * 1.90\n",
    "        desconto = total_alcool * 0.05\n",
    "        print(f'Você ganhou 5% de desconto no álcool. O total a ser pago é de {total_alcool - desconto}')\n",
    "\n",
    "    elif litros <= 20:\n",
    "        combustivel = 'g'\n",
    "        total_gasolina = litros * 2.50\n",
    "        desconto = total_gasolina * 0.04\n",
    "        print(f'Você ganhou 4% de desconto na gasolina. O total a ser pago é de {total_gasolina - desconto}')\n",
    "\n",
    "    else:\n",
    "        litros > 20\n",
    "        combustivel = 'g'\n",
    "        total_gasolina = litros * 2.50\n",
    "        desconto = total_gasolina * 0.06\n",
    "        print(f'Você ganhou 6% de desconto na gasolina. O total a ser pago é de {total_gasolina - desconto}')"
   ]
  },
  {
   "cell_type": "code",
   "execution_count": 202,
   "id": "6cb92245",
   "metadata": {},
   "outputs": [
    {
     "name": "stdout",
     "output_type": "stream",
     "text": [
      "Você ganhou um desconto de R$1.00. O total a ser pago é R$24.00\n"
     ]
    }
   ],
   "source": [
    "# Solicita os dados do usuário\n",
    "litros = float(input('Digite a quantidade de litros: '))\n",
    "combustivel = input('Digite o tipo de combustível (A-álcool, G-gasolina): ').strip().upper()\n",
    "\n",
    "# Definição dos preços por litro\n",
    "preco_alcool = 1.90\n",
    "preco_gasolina = 2.50\n",
    "\n",
    "# Verifica o tipo de combustível e aplica o desconto\n",
    "if combustivel == 'A':  # Álcool\n",
    "    total = litros * preco_alcool\n",
    "    if litros <= 20:\n",
    "        desconto = total * 0.03  # 3% de desconto\n",
    "    else:\n",
    "        desconto = total * 0.05  # 5% de desconto\n",
    "\n",
    "elif combustivel == 'G':  # Gasolina\n",
    "    total = litros * preco_gasolina\n",
    "    if litros <= 20:\n",
    "        desconto = total * 0.04  # 4% de desconto\n",
    "    else:\n",
    "        desconto = total * 0.06  # 6% de desconto\n",
    "\n",
    "else:\n",
    "    print(\"Opção inválida! Digite 'A' para álcool ou 'G' para gasolina.\")\n",
    "    desconto = 0\n",
    "    total = 0\n",
    "\n",
    "# Exibe o valor final, se válido\n",
    "if total > 0:\n",
    "    print(f'Você ganhou um desconto de R${desconto:.2f}. O total a ser pago é R${total - desconto:.2f}')\n"
   ]
  },
  {
   "cell_type": "markdown",
   "id": "be0f8f32",
   "metadata": {
    "id": "be0f8f32"
   },
   "source": [
    "#### 21. Uma fruteira está vendendo frutas com a seguinte tabela de preços:\n",
    "<pre>\n",
    "                      Até 5 Kg           Acima de 5 Kg\n",
    "Morango         R$ 2,50 por Kg          R$ 2,20 por Kg\n",
    "Maçã            R$ 1,80 por Kg          R$ 1,50 por Kg\n",
    "Se o cliente comprar mais de 8 Kg em frutas ou o valor total da compra ultrapassar R$ 25,00, receberá ainda um desconto de 10% sobre este total. Escreva um algoritmo para ler a quantidade (em Kg) de morangos e a quantidade (em Kg) de maças adquiridas e escreva o valor a ser pago pelo cliente.\n",
    "</pre>"
   ]
  },
  {
   "cell_type": "code",
   "execution_count": 226,
   "id": "35c47c8e",
   "metadata": {
    "id": "35c47c8e"
   },
   "outputs": [
    {
     "name": "stdout",
     "output_type": "stream",
     "text": [
      "O valor total com desconto é de 22.68\n"
     ]
    }
   ],
   "source": [
    "qtd_morango = float(input('Quantos kgs de morango: '))\n",
    "qtd_maca = float(input('Quantos kgs de maca: '))\n",
    "\n",
    "if qtd_morango > 5:\n",
    "    total_morango = 2.20 * qtd_morango\n",
    "else:\n",
    "    total_morango = 2.50 * qtd_morango\n",
    "\n",
    "if qtd_maca > 5:\n",
    "    total_maca = 1.50 * qtd_maca\n",
    "else:\n",
    "    total_maca = 1.80 * qtd_maca\n",
    "\n",
    "total_kg = total_morango + total_maca\n",
    "\n",
    "if qtd_morango + qtd_maca > 8 or total_morango + total_maca > 25:\n",
    "    total = (total_morango + total_maca) * 0.9\n",
    "    print(f'O valor total com desconto é de {total:.2f}')\n",
    "else:\n",
    "    total = total_morango + total_maca\n",
    "    print(f'O valor total é de {total}')"
   ]
  },
  {
   "cell_type": "markdown",
   "id": "4dbd53ed",
   "metadata": {
    "id": "4dbd53ed"
   },
   "source": [
    "#### 22. O Hipermercado Tabajara está com uma promoção de carnes que é imperdível. Confira:\n",
    "<pre>\n",
    "                      Até 5 Kg           Acima de 5 Kg\n",
    "File Duplo      R$ 4,90 por Kg          R$ 5,80 por Kg\n",
    "Alcatra         R$ 5,90 por Kg          R$ 6,80 por Kg\n",
    "Picanha         R$ 6,90 por Kg          R$ 7,80 por Kg\n",
    "Para atender a todos os clientes, cada cliente poderá levar apenas um dos tipos de carne da promoção, porém não há limites para a quantidade de carne por cliente. Se compra for feita no cartão Tabajara o cliente receberá ainda um desconto de 5% sobre o total da compra. Escreva um programa que peça o tipo e a quantidade de carne comprada pelo usuário e gere um cupom fiscal, contendo as informações da compra: tipo e quantidade de carne, preço total, tipo de pagamento, valor do desconto e valor a pagar.\n",
    "</pre>"
   ]
  },
  {
   "cell_type": "code",
   "execution_count": null,
   "id": "15a77357",
   "metadata": {
    "id": "15a77357"
   },
   "outputs": [
    {
     "name": "stdout",
     "output_type": "stream",
     "text": [
      "Tipo de Carne: picanha\n",
      "Quantidade de Carne: 3.0\n",
      "Total: 23.4\n",
      "Desconto: 1.17\n",
      "Tipo de pagamento: tabajara\n",
      "O valor total com desconto é de 22.23\n"
     ]
    }
   ],
   "source": [
    "qtd_carne = float(input('Quantos kgs de carne: '))\n",
    "tipo_carne = input('Qual tipo de carne: ').strip().lower() #.upper()\n",
    "tipo_pagamento = input('Qual a forma de pagamento? ').strip().lower() #.upper()\n",
    "\n",
    "if qtd_carne > 5 and tipo_carne == 'File Duplo':\n",
    "    total_carne = 4.90 * qtd_carne\n",
    "\n",
    "elif qtd_carne <= 5 and tipo_carne == 'File Duplo':\n",
    "    total_carne = 5.80 * qtd_carne\n",
    "\n",
    "elif qtd_carne > 5 and tipo_carne == 'Alcatra':\n",
    "    total_carne = 5.90 * qtd_carne\n",
    "\n",
    "elif qtd_carne <= 5 and tipo_carne == 'Alcatra':\n",
    "    total_carne = 6.80 * qtd_carne\n",
    "\n",
    "elif qtd_carne > 5 and tipo_carne == 'Picanha':\n",
    "    total_carne = 6.90 * qtd_carne\n",
    "\n",
    "elif qtd_carne <= 5 and tipo_carne == 'Picanha':\n",
    "    total_carne = 7.90 * qtd_carne\n",
    "\n",
    "if tipo_pagamento == 'Tabajara' or 'tabajara':\n",
    "    desconto = total_carne * 0.05\n",
    "    total_descontos = total_carne * 0.95\n",
    "    print(f'Tipo de Carne: {tipo_carne}')\n",
    "    print(f'Quantidade de Carne: {qtd_carne}')\n",
    "    print(f'Total: {total_carne}')\n",
    "    print(f'Desconto: {desconto:.2f}')\n",
    "    print(f'Tipo de pagamento: {tipo_pagamento}')\n",
    "    print(f'O valor total com desconto é de {total_descontos:.2f}')\n",
    "    \n",
    "else:\n",
    "    print(f'O valor total é de {total_carne}')"
   ]
  },
  {
   "cell_type": "code",
   "execution_count": 241,
   "id": "852a238b",
   "metadata": {},
   "outputs": [
    {
     "name": "stdout",
     "output_type": "stream",
     "text": [
      "Tipo de Carne: Alcatra\n",
      "Quantidade de Carne: 3.00 kg\n",
      "Total: R$ 20.40\n",
      "Desconto: R$ 1.02\n",
      "Tipo de pagamento: Tabajara\n",
      "O valor total com desconto é de R$ 19.38\n"
     ]
    }
   ],
   "source": [
    "qtd_carne = float(input('Quantos kgs de carne: '))\n",
    "tipo_carne = input('Qual tipo de carne (file duplo, alcatra, picanha): ').strip().lower()\n",
    "tipo_pagamento = input('Qual a forma de pagamento? ').strip().lower()\n",
    "\n",
    "if qtd_carne > 5 and tipo_carne == 'file duplo':\n",
    "    total_carne = 4.90 * qtd_carne\n",
    "\n",
    "elif qtd_carne <= 5 and tipo_carne == 'file duplo':\n",
    "    total_carne = 5.80 * qtd_carne\n",
    "\n",
    "elif qtd_carne > 5 and tipo_carne == 'alcatra':\n",
    "    total_carne = 5.90 * qtd_carne\n",
    "\n",
    "elif qtd_carne <= 5 and tipo_carne == 'alcatra':\n",
    "    total_carne = 6.80 * qtd_carne\n",
    "\n",
    "elif qtd_carne > 5 and tipo_carne == 'picanha':\n",
    "    total_carne = 6.90 * qtd_carne\n",
    "\n",
    "elif qtd_carne <= 5 and tipo_carne == 'picanha':\n",
    "    total_carne = 7.90 * qtd_carne\n",
    "\n",
    "else:\n",
    "    print(\"Tipo de carne inválido!\")\n",
    "    exit()\n",
    "\n",
    "# Aplica desconto apenas se for 'tabajara'\n",
    "if tipo_pagamento == 'tabajara':\n",
    "    desconto = total_carne * 0.05\n",
    "    total_final = total_carne - desconto\n",
    "    print(f'Tipo de Carne: {tipo_carne.capitalize()}')\n",
    "    print(f'Quantidade de Carne: {qtd_carne:.2f} kg')\n",
    "    print(f'Total: R$ {total_carne:.2f}')\n",
    "    print(f'Desconto: R$ {desconto:.2f}')\n",
    "    print(f'Tipo de pagamento: {tipo_pagamento.capitalize()}')\n",
    "    print(f'O valor total com desconto é de R$ {total_final:.2f}')\n",
    "else:\n",
    "    print(f'O valor total é de R$ {total_carne:.2f}')\n"
   ]
  },
  {
   "cell_type": "markdown",
   "id": "b949545b",
   "metadata": {
    "id": "b949545b"
   },
   "source": [
    "#### 23. Faça um Programa para uma loja de tintas. O programa deverá pedir o tamanho em metros quadrados da área a ser pintada. Considere que a cobertura da tinta é de 1 litro para cada 6 metros quadrados e que a tinta é vendida em latas de 18 litros, que custam R\\\\$ 80,00 ou em galões de 3,6 litros, que custam R\\\\$ 25,00."
   ]
  },
  {
   "cell_type": "code",
   "execution_count": 269,
   "id": "b11185b0",
   "metadata": {
    "id": "b11185b0"
   },
   "outputs": [],
   "source": [
    "# Entrada do usuário\n",
    "area = float(input('Informe o tamanho da área a ser pintada em m²: '))\n",
    "# Cálculo da quantidade de tinta necessária\n",
    "litros_tinta = area / 6"
   ]
  },
  {
   "cell_type": "markdown",
   "id": "b3d0598f",
   "metadata": {
    "id": "b3d0598f"
   },
   "source": [
    "##### Informe ao usuário as quantidades de tinta a serem compradas e os respectivos preços em 3 situações.\n",
    "\n",
    "Dica: lembre dos operadores // e % mostrados em exercícios anteriores<br>\n",
    "Dica1: numero // 10 vai te dar como resposta a parte inteira da divisão do número por 10.<br>\n",
    "Dica2: numero % 10 vai te dar o resto da divisão do número por 10.\n",
    "\n",
    "##### 1. Comprar apenas latas de 18 litros: (apenas latas inteiras)"
   ]
  },
  {
   "cell_type": "code",
   "execution_count": 270,
   "id": "458c4e24",
   "metadata": {},
   "outputs": [
    {
     "name": "stdout",
     "output_type": "stream",
     "text": [
      "Quantidade de latas de 18 litros necessárias: 56\n",
      "Custo total: R$ 4480.00\n"
     ]
    }
   ],
   "source": [
    "# Cálculo da quantidade de latas de 18 litros (arredondando para cima)\n",
    "latas_18 = int(litros_tinta / 18)\n",
    "\n",
    "if litros_tinta % 18 != 0:\n",
    "    latas_18 += 1 # Se houver sobra, precisa de mais uma lata\n",
    "\n",
    "# Preço das latas\n",
    "preco_lata = 80.00\n",
    "custo_total = latas_18 * preco_lata\n",
    "\n",
    "#Exibir os resultados:\n",
    "print(f'Quantidade de latas de 18 litros necessárias: {latas_18}')\n",
    "print(f'Custo total: R$ {custo_total:.2f}')"
   ]
  },
  {
   "cell_type": "markdown",
   "id": "ab03bc10",
   "metadata": {
    "id": "ab03bc10"
   },
   "source": [
    "##### 2. Comprar apenas galões de 3,6 litros: (apenas galoes inteiros)"
   ]
  },
  {
   "cell_type": "code",
   "execution_count": 271,
   "id": "542f4a77",
   "metadata": {
    "id": "542f4a77"
   },
   "outputs": [
    {
     "name": "stdout",
     "output_type": "stream",
     "text": [
      "Quantidade de galões de 3.6 litros necessários: 3\n",
      "Custo total: R$ 75.00\n"
     ]
    }
   ],
   "source": [
    "# Cálculo da quantidade de galoes de 3.6 litros (arredondando para cima)\n",
    "galoes_36 = int(litros / 3.6)\n",
    "\n",
    "# O operador módulo (%) retorna o resto da divisão.\n",
    "if litros_tinta % 3.6 != 0:\n",
    "    galoes_36 += 1 # Se houver sobra, precisa de mais uma lata\n",
    "\n",
    "# Preço dos galões\n",
    "preco_galoes = 25.00\n",
    "custo_total = galoes_36 * preco_galoes\n",
    "\n",
    "#Exibir os resultados:\n",
    "print(f'Quantidade de galões de 3.6 litros necessários: {galoes_36}')\n",
    "print(f'Custo total: R$ {custo_total:.2f}')\n"
   ]
  },
  {
   "cell_type": "markdown",
   "id": "8Jbw7RupH9Nc",
   "metadata": {
    "id": "8Jbw7RupH9Nc"
   },
   "source": [
    "##### 3. Misturar latas e galões, de forma que o desperdício de tinta seja menor. Acrescente 10% de folga e sempre arredonde os valores para cima, isto é, considere latas cheias."
   ]
  },
  {
   "cell_type": "markdown",
   "id": "93d4157b",
   "metadata": {
    "id": "93d4157b"
   },
   "source": [
    "O custo da lata é 80/18 = 4,44 R\\\\$/L\n",
    "\n",
    "O custo do galão é 25/3,6 = 6,94 R\\\\$/L\n",
    "\n",
    "A lata é mais econômica, então todas as latas inteiras que pudermos usar devemos comprar em latas. Se ficar faltando alguma coisa para completar devemos avaliar se é melhor comprar latas ou galões. Exemplo:\n",
    "\n",
    "Se queremos comprar 90 litros. 5 latas dão exatamente 90 litros. Então devemos comprar tudo em latas.\n",
    "\n",
    "Se queremos comprar 95 litros. 5 latas dão exatamente 90 litros. Então devemos comprar pelo menos 5 latas e avaliar o que falta, se estes últimos 5 litros valem mais apenas em latas ou galões.\n",
    "\n",
    "Para os 5 litros faltantes precisamos de 2 galões que custam 50 reais no total. Ou de uma lata que custa 80 reais no total. Portanto, neste caso vale mais a pena usar 2 galões.\n",
    "\n",
    "Se queremos comprar 107 litros. 5 latas dão exatamente 90 litros. Então devemos comprar pelo menos 5 latas e avaliar o que falta, se estes últimos 5 litros valem mais apenas em latas ou galões.\n",
    "\n",
    "Para os 17 litros faltantes precisamos de 5 galões que custam 125 reais no total. Ou de uma lata que custa 80 reais no total. Portanto, neste caso vale mais a pena usar uma lata.\n",
    "\n",
    "3 galões custam 75 reais, 4 galões custam 100 reais. Então, se for possível completar com até 3 galões escolhe-se galões. Qualquer quantidade maior que 3 galões, usa-se latas.\n",
    "\n",
    "Podemos ir ao exercício:"
   ]
  },
  {
   "cell_type": "code",
   "execution_count": 273,
   "id": "01d104b6",
   "metadata": {
    "id": "01d104b6"
   },
   "outputs": [
    {
     "name": "stdout",
     "output_type": "stream",
     "text": [
      "\n",
      "------ Quantidade de tinta necessária 366.67 litros ------\n",
      "Opção 1 - Apenas latas de 18L: 21 latas - Preço: R$ 1680.00\n",
      "Opção 2 - Apenas galões de 3.6L: 102 galões - Preço: R$2550.0\n",
      "Poção 3 - Latas + Galões: 20 latas e 2 galões - Preço: R$1650.00\n"
     ]
    }
   ],
   "source": [
    "# Entrada do usuário\n",
    "area = float(input('Informe o tamanho da área a ser pintada em m²: '))\n",
    "# Cálculo da quantidade de tinta necessária\n",
    "litros_tinta = area / 6 * 1.1\n",
    "\n",
    "# Preços e capacidades\n",
    "litro_lata = 18\n",
    "litro_galao = 3.6\n",
    "valor_lata = 80.00\n",
    "valor_galão = 25.00\n",
    "\n",
    "#Cálculo da quantidade necessária de latas e galões\n",
    "qtd_latas = int(litros_tinta // litro_lata) # Quantidade inteira de latas\n",
    "resto_litros = litros_tinta % litro_lata # O que sobra após usar latas inteiras\n",
    "\n",
    "# Se ainda sobra tinta, calcular a quantidade de galões necessários\n",
    "if resto_litros > 0:\n",
    "    qtd_galoes = int(resto_litros // litro_galao) # // faz divisão inteira (descarta as casas decimais).\n",
    "    if resto_litros % litro_galao > 0: # Se ainda sobra tinta, precisa de mais um galão\n",
    "        qtd_galoes += 1\n",
    "else:\n",
    "    qtd_galoes = 0\n",
    "\n",
    "# Opção 1: Apenas latas de 18L\n",
    "qtd_somente_latas = int(litros_tinta // litro_lata)\n",
    "if litros_tinta % litro_lata > 0:\n",
    "    qtd_somente_latas +=1\n",
    "preco_somente_latas = qtd_somente_latas * preco_lata\n",
    "\n",
    "# Opção 2: Apenas galões de 3.6L\n",
    "qtd_somente_galoes = int(litros_tinta // litro_galao)\n",
    "if litros_tinta % litro_galao > 0:\n",
    "    qtd_somente_galoes += 1\n",
    "preco_somente_galoes = qtd_somente_galoes * preco_galoes\n",
    "\n",
    "# Opção 3: Misturar latas e galões\n",
    "preco_total_misto = (qtd_latas * preco_lata) + (qtd_galoes * preco_galoes)\n",
    "\n",
    "# Exibir a melhor opção para o usuário\n",
    "print(f'\\n------ Quantidade de tinta necessária {litros_tinta:.2f} litros ------')\n",
    "\n",
    "print(f'Opção 1 - Apenas latas de 18L: {qtd_somente_latas} latas - Preço: R$ {preco_somente_latas:.2f}')\n",
    "print(f'Opção 2 - Apenas galões de 3.6L: {qtd_somente_galoes} galões - Preço: R${preco_somente_galoes}')\n",
    "print(f'Poção 3 - Latas + Galões: {qtd_latas} latas e {qtd_galoes} galões - Preço: R${preco_total_misto:.2f}')\n"
   ]
  }
 ],
 "metadata": {
  "colab": {
   "provenance": []
  },
  "kernelspec": {
   "display_name": "base",
   "language": "python",
   "name": "python3"
  },
  "language_info": {
   "codemirror_mode": {
    "name": "ipython",
    "version": 3
   },
   "file_extension": ".py",
   "mimetype": "text/x-python",
   "name": "python",
   "nbconvert_exporter": "python",
   "pygments_lexer": "ipython3",
   "version": "3.12.4"
  }
 },
 "nbformat": 4,
 "nbformat_minor": 5
}
