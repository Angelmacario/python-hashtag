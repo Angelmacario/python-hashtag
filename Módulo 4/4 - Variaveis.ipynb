{
 "cells": [
  {
   "cell_type": "code",
   "execution_count": 1,
   "id": "7c4ebe16-3f7a-430c-8b1e-90536675462f",
   "metadata": {},
   "outputs": [],
   "source": [
    "qnt_vendas = 1500\n",
    "nome = 'Kenai'"
   ]
  },
  {
   "cell_type": "code",
   "execution_count": 2,
   "id": "8cb9c020-19cc-454f-afe6-c2df3c5ece01",
   "metadata": {},
   "outputs": [
    {
     "name": "stdout",
     "output_type": "stream",
     "text": [
      "1500\n",
      "Kenai\n"
     ]
    }
   ],
   "source": [
    "print(qnt_vendas)\n",
    "print(nome)"
   ]
  },
  {
   "cell_type": "code",
   "execution_count": null,
   "id": "d407c84e-9095-44a4-85f7-5fefb467401d",
   "metadata": {},
   "outputs": [],
   "source": []
  }
 ],
 "metadata": {
  "kernelspec": {
   "display_name": "Python 3 (ipykernel)",
   "language": "python",
   "name": "python3"
  },
  "language_info": {
   "codemirror_mode": {
    "name": "ipython",
    "version": 3
   },
   "file_extension": ".py",
   "mimetype": "text/x-python",
   "name": "python",
   "nbconvert_exporter": "python",
   "pygments_lexer": "ipython3",
   "version": "3.12.4"
  }
 },
 "nbformat": 4,
 "nbformat_minor": 5
}
